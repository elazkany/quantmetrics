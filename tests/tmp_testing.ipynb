{
 "cells": [
  {
   "cell_type": "code",
   "execution_count": 1,
   "id": "f78c66f2",
   "metadata": {},
   "outputs": [],
   "source": [
    "import sys\n",
    "from pathlib import Path\n",
    "# Add the src directory to Python path\n",
    "sys.path.insert(0, str(Path(\"..\").resolve() / \"src/\"))"
   ]
  },
  {
   "cell_type": "code",
   "execution_count": 2,
   "id": "160b605c",
   "metadata": {},
   "outputs": [],
   "source": [
    "import numpy as np\n",
    "import pandas as pd\n",
    "from quantmetrics.levy_models import GBM, CJD, LJD, VG\n",
    "from quantmetrics.risk_neutral.market_price_of_risk import MarketPriceOfRisk\n",
    "from quantmetrics.option_pricing import Option, OptionPricer\n"
   ]
  },
  {
   "cell_type": "code",
   "execution_count": 3,
   "id": "77a58c59",
   "metadata": {},
   "outputs": [],
   "source": [
    "path = Path(\"..\").resolve().parent"
   ]
  },
  {
   "cell_type": "code",
   "execution_count": 4,
   "id": "4e13a67a",
   "metadata": {},
   "outputs": [],
   "source": [
    "option_df = pd.read_csv(path / 'tmp_data/option_with_sentiment.csv', index_col='date', parse_dates=True)\n",
    "cjd_params_df = pd.read_csv(path / 'tmp_data/cjd_mle_params.csv', index_col='date', parse_dates=True)\n",
    "ljd_params_df = pd.read_csv(path / 'tmp_data/ljd_mle_params.csv', index_col='date', parse_dates=True)\n",
    "vg_params_df = pd.read_csv(path / 'tmp_data/vg_mle_params.csv', index_col='date', parse_dates=True)\n",
    "option_df[\"DTB3\"] = option_df[\"DTB3\"] / 365  # Convert annual interest rates to daily\n",
    "df = option_df.copy()[[\"mid_price\", \"strike_price\",\"Close\", \"DTB3\", \"days_to_maturity\", \"sentiment_score\"]]\n",
    "df = df.rename(columns={\"mid_price\": \"C\", \"strike_price\":\"K\", \"Close\": \"S0\", \"DTB3\": \"r\", \"days_to_maturity\": \"T\", \"sentiment_score\": \"st\"})\n",
    "df[\"r\"] = df[\"r\"].ffill()\n",
    "df = df.groupby(df.index).agg({\n",
    "    'C': list,\n",
    "    'K': list,\n",
    "    'S0': 'first',\n",
    "    'r': 'first',\n",
    "    'T': 'first',\n",
    "    'st': \"first\"\n",
    "})\n"
   ]
  },
  {
   "cell_type": "code",
   "execution_count": 5,
   "id": "9c7a490e",
   "metadata": {},
   "outputs": [],
   "source": [
    "selected_dates = pd.to_datetime([\"2019-09-04\",\"2019-11-04\",\"2020-03-03\", \"2020-04-03\", \"2020-06-04\", \"2020-08-04\", \"2020-10-06\", \"2020-12-04\"])\n",
    "date = selected_dates[0]"
   ]
  },
  {
   "cell_type": "code",
   "execution_count": 6,
   "id": "74453be5",
   "metadata": {},
   "outputs": [],
   "source": [
    "K = df.loc[date, 'K'][-1]"
   ]
  },
  {
   "cell_type": "code",
   "execution_count": 7,
   "id": "bb7fcfcf",
   "metadata": {},
   "outputs": [
    {
     "ename": "KeyboardInterrupt",
     "evalue": "",
     "output_type": "error",
     "traceback": [
      "\u001b[1;31m---------------------------------------------------------------------------\u001b[0m",
      "\u001b[1;31mKeyboardInterrupt\u001b[0m                         Traceback (most recent call last)",
      "Cell \u001b[1;32mIn[7], line 60\u001b[0m\n\u001b[0;32m     38\u001b[0m     ljd_thetas_exact[i] \u001b[38;5;241m=\u001b[39m ljd_exact_mpr\u001b[38;5;241m.\u001b[39msolve(\n\u001b[0;32m     39\u001b[0m         exact\u001b[38;5;241m=\u001b[39m\u001b[38;5;28;01mTrue\u001b[39;00m,\n\u001b[0;32m     40\u001b[0m         M\u001b[38;5;241m=\u001b[39m\u001b[38;5;241m2.0\u001b[39m,\n\u001b[1;32m   (...)\u001b[0m\n\u001b[0;32m     46\u001b[0m         rtol\u001b[38;5;241m=\u001b[39m\u001b[38;5;241m1e-8\u001b[39m,\n\u001b[0;32m     47\u001b[0m         maxiter\u001b[38;5;241m=\u001b[39m\u001b[38;5;241m500\u001b[39m)\n\u001b[0;32m     49\u001b[0m     ljd_thetas_levy[i] \u001b[38;5;241m=\u001b[39m ljd_levy_mpr\u001b[38;5;241m.\u001b[39msolve(\n\u001b[0;32m     50\u001b[0m         exact\u001b[38;5;241m=\u001b[39m\u001b[38;5;28;01mFalse\u001b[39;00m,\n\u001b[0;32m     51\u001b[0m         M\u001b[38;5;241m=\u001b[39m\u001b[38;5;241m2.0\u001b[39m,\n\u001b[1;32m   (...)\u001b[0m\n\u001b[0;32m     57\u001b[0m         rtol\u001b[38;5;241m=\u001b[39m\u001b[38;5;241m1e-8\u001b[39m,\n\u001b[0;32m     58\u001b[0m         maxiter\u001b[38;5;241m=\u001b[39m\u001b[38;5;241m500\u001b[39m)\n\u001b[1;32m---> 60\u001b[0m     vg_thetas_levy[i] \u001b[38;5;241m=\u001b[39m \u001b[43mvg_levy_mpr\u001b[49m\u001b[38;5;241;43m.\u001b[39;49m\u001b[43msolve\u001b[49m\u001b[43m(\u001b[49m\n\u001b[0;32m     61\u001b[0m \u001b[43m        \u001b[49m\u001b[43mexact\u001b[49m\u001b[38;5;241;43m=\u001b[39;49m\u001b[38;5;28;43;01mFalse\u001b[39;49;00m\u001b[43m,\u001b[49m\n\u001b[0;32m     62\u001b[0m \u001b[43m        \u001b[49m\u001b[43mM\u001b[49m\u001b[38;5;241;43m=\u001b[39;49m\u001b[38;5;241;43m2.0\u001b[39;49m\u001b[43m,\u001b[49m\n\u001b[0;32m     63\u001b[0m \u001b[43m        \u001b[49m\u001b[43mN_center\u001b[49m\u001b[38;5;241;43m=\u001b[39;49m\u001b[38;5;241;43m150\u001b[39;49m\u001b[43m,\u001b[49m\n\u001b[0;32m     64\u001b[0m \u001b[43m        \u001b[49m\u001b[43mN_tails\u001b[49m\u001b[38;5;241;43m=\u001b[39;49m\u001b[38;5;241;43m100\u001b[39;49m\u001b[43m,\u001b[49m\n\u001b[0;32m     65\u001b[0m \u001b[43m        \u001b[49m\u001b[43mEXP_CLIP\u001b[49m\u001b[38;5;241;43m=\u001b[39;49m\u001b[38;5;241;43m700\u001b[39;49m\u001b[43m,\u001b[49m\n\u001b[0;32m     66\u001b[0m \u001b[43m        \u001b[49m\u001b[43msearch_bounds\u001b[49m\u001b[43m \u001b[49m\u001b[38;5;241;43m=\u001b[39;49m\u001b[43m \u001b[49m\u001b[43m[\u001b[49m\u001b[38;5;241;43m-\u001b[39;49m\u001b[38;5;241;43m100\u001b[39;49m\u001b[43m,\u001b[49m\u001b[43m \u001b[49m\u001b[38;5;241;43m100\u001b[39;49m\u001b[43m]\u001b[49m\u001b[43m,\u001b[49m\n\u001b[0;32m     67\u001b[0m \u001b[43m        \u001b[49m\u001b[43mxtol\u001b[49m\u001b[38;5;241;43m=\u001b[39;49m\u001b[38;5;241;43m1e-8\u001b[39;49m\u001b[43m,\u001b[49m\n\u001b[0;32m     68\u001b[0m \u001b[43m        \u001b[49m\u001b[43mrtol\u001b[49m\u001b[38;5;241;43m=\u001b[39;49m\u001b[38;5;241;43m1e-8\u001b[39;49m\u001b[43m,\u001b[49m\n\u001b[0;32m     69\u001b[0m \u001b[43m        \u001b[49m\u001b[43mmaxiter\u001b[49m\u001b[38;5;241;43m=\u001b[39;49m\u001b[38;5;241;43m500\u001b[39;49m\u001b[43m)\u001b[49m\n\u001b[0;32m     71\u001b[0m df_thetas_test \u001b[38;5;241m=\u001b[39m pd\u001b[38;5;241m.\u001b[39mDataFrame({\u001b[38;5;124m\"\u001b[39m\u001b[38;5;124mpsi\u001b[39m\u001b[38;5;124m\"\u001b[39m: psi,  \u001b[38;5;124m\"\u001b[39m\u001b[38;5;124mljd_theta_exact\u001b[39m\u001b[38;5;124m\"\u001b[39m: ljd_thetas_exact, \u001b[38;5;124m\"\u001b[39m\u001b[38;5;124mljd_theta_levy\u001b[39m\u001b[38;5;124m\"\u001b[39m: ljd_thetas_levy, \u001b[38;5;124m\"\u001b[39m\u001b[38;5;124mvg_theta\u001b[39m\u001b[38;5;124m\"\u001b[39m:vg_thetas_levy})\n",
      "File \u001b[1;32m~\\Projects\\Active_projects\\quantmetrics\\src\\quantmetrics\\risk_neutral\\market_price_of_risk.py:46\u001b[0m, in \u001b[0;36mMarketPriceOfRisk.solve\u001b[1;34m(self, exact, L, M, N_center, N_tails, EXP_CLIP, search_bounds, xtol, rtol, maxiter, sanity_theta)\u001b[0m\n\u001b[0;32m     18\u001b[0m \u001b[38;5;28;01mdef\u001b[39;00m \u001b[38;5;21msolve\u001b[39m(\n\u001b[0;32m     19\u001b[0m     \u001b[38;5;28mself\u001b[39m,\n\u001b[0;32m     20\u001b[0m     exact: \u001b[38;5;28mbool\u001b[39m \u001b[38;5;241m=\u001b[39m \u001b[38;5;28;01mFalse\u001b[39;00m,\n\u001b[1;32m   (...)\u001b[0m\n\u001b[0;32m     30\u001b[0m     sanity_theta: \u001b[38;5;28mfloat\u001b[39m \u001b[38;5;241m=\u001b[39m \u001b[38;5;241m1.0\u001b[39m\n\u001b[0;32m     31\u001b[0m ) \u001b[38;5;241m-\u001b[39m\u001b[38;5;241m>\u001b[39m \u001b[38;5;28mfloat\u001b[39m:\n\u001b[0;32m     32\u001b[0m \u001b[38;5;250m    \u001b[39m\u001b[38;5;124;03m\"\"\"\u001b[39;00m\n\u001b[0;32m     33\u001b[0m \u001b[38;5;124;03m    Solves the martingale equation for theta.\u001b[39;00m\n\u001b[0;32m     34\u001b[0m \n\u001b[1;32m   (...)\u001b[0m\n\u001b[0;32m     44\u001b[0m \u001b[38;5;124;03m        float: Market price of risk (theta).\u001b[39;00m\n\u001b[0;32m     45\u001b[0m \u001b[38;5;124;03m    \"\"\"\u001b[39;00m\n\u001b[1;32m---> 46\u001b[0m     \u001b[38;5;28;01mreturn\u001b[39;00m \u001b[38;5;28;43mself\u001b[39;49m\u001b[38;5;241;43m.\u001b[39;49m\u001b[43msolver\u001b[49m\u001b[38;5;241;43m.\u001b[39;49m\u001b[43msolve\u001b[49m\u001b[43m(\u001b[49m\n\u001b[0;32m     47\u001b[0m \u001b[43m        \u001b[49m\u001b[43mexact\u001b[49m\u001b[38;5;241;43m=\u001b[39;49m\u001b[43mexact\u001b[49m\u001b[43m,\u001b[49m\n\u001b[0;32m     48\u001b[0m \u001b[43m        \u001b[49m\u001b[43mL\u001b[49m\u001b[38;5;241;43m=\u001b[39;49m\u001b[43mL\u001b[49m\u001b[43m,\u001b[49m\n\u001b[0;32m     49\u001b[0m \u001b[43m        \u001b[49m\u001b[43mM\u001b[49m\u001b[38;5;241;43m=\u001b[39;49m\u001b[43mM\u001b[49m\u001b[43m,\u001b[49m\n\u001b[0;32m     50\u001b[0m \u001b[43m        \u001b[49m\u001b[43mN_center\u001b[49m\u001b[38;5;241;43m=\u001b[39;49m\u001b[43mN_center\u001b[49m\u001b[43m,\u001b[49m\n\u001b[0;32m     51\u001b[0m \u001b[43m        \u001b[49m\u001b[43mN_tails\u001b[49m\u001b[38;5;241;43m=\u001b[39;49m\u001b[43mN_tails\u001b[49m\u001b[43m,\u001b[49m\n\u001b[0;32m     52\u001b[0m \u001b[43m        \u001b[49m\u001b[43mEXP_CLIP\u001b[49m\u001b[38;5;241;43m=\u001b[39;49m\u001b[43mEXP_CLIP\u001b[49m\u001b[43m,\u001b[49m\n\u001b[0;32m     53\u001b[0m \u001b[43m        \u001b[49m\u001b[43msearch_bounds\u001b[49m\u001b[38;5;241;43m=\u001b[39;49m\u001b[43msearch_bounds\u001b[49m\u001b[43m,\u001b[49m\n\u001b[0;32m     54\u001b[0m \u001b[43m        \u001b[49m\u001b[43mxtol\u001b[49m\u001b[38;5;241;43m=\u001b[39;49m\u001b[43mxtol\u001b[49m\u001b[43m,\u001b[49m\n\u001b[0;32m     55\u001b[0m \u001b[43m        \u001b[49m\u001b[43mrtol\u001b[49m\u001b[38;5;241;43m=\u001b[39;49m\u001b[43mrtol\u001b[49m\u001b[43m,\u001b[49m\n\u001b[0;32m     56\u001b[0m \u001b[43m        \u001b[49m\u001b[43mmaxiter\u001b[49m\u001b[38;5;241;43m=\u001b[39;49m\u001b[43mmaxiter\u001b[49m\u001b[43m,\u001b[49m\n\u001b[0;32m     57\u001b[0m \u001b[43m        \u001b[49m\u001b[43msanity_theta\u001b[49m\u001b[38;5;241;43m=\u001b[39;49m\u001b[43msanity_theta\u001b[49m\n\u001b[0;32m     58\u001b[0m \u001b[43m    \u001b[49m\u001b[43m)\u001b[49m\n",
      "File \u001b[1;32m~\\Projects\\Active_projects\\quantmetrics\\src\\quantmetrics\\risk_neutral\\market_price_of_risk_solver.py:47\u001b[0m, in \u001b[0;36mMarketPriceOfRiskSolver.solve\u001b[1;34m(self, exact, L, M, N_center, N_tails, EXP_CLIP, search_bounds, xtol, rtol, maxiter, sanity_theta)\u001b[0m\n\u001b[0;32m     19\u001b[0m \u001b[38;5;28;01mdef\u001b[39;00m \u001b[38;5;21msolve\u001b[39m(\n\u001b[0;32m     20\u001b[0m     \u001b[38;5;28mself\u001b[39m,\n\u001b[0;32m     21\u001b[0m     exact\u001b[38;5;241m=\u001b[39m\u001b[38;5;28;01mFalse\u001b[39;00m,\n\u001b[1;32m   (...)\u001b[0m\n\u001b[0;32m     31\u001b[0m     sanity_theta: \u001b[38;5;28mfloat\u001b[39m \u001b[38;5;241m=\u001b[39m \u001b[38;5;241m1.0\u001b[39m\n\u001b[0;32m     32\u001b[0m ) \u001b[38;5;241m-\u001b[39m\u001b[38;5;241m>\u001b[39m \u001b[38;5;28mfloat\u001b[39m:\n\u001b[0;32m     33\u001b[0m \u001b[38;5;250m    \u001b[39m\u001b[38;5;124;03m\"\"\"\u001b[39;00m\n\u001b[0;32m     34\u001b[0m \u001b[38;5;124;03m    Finds the value of theta that solves the martingale equation.\u001b[39;00m\n\u001b[0;32m     35\u001b[0m \n\u001b[1;32m   (...)\u001b[0m\n\u001b[0;32m     45\u001b[0m \u001b[38;5;124;03m        float: Root theta such that martingale equation = 0.\u001b[39;00m\n\u001b[0;32m     46\u001b[0m \u001b[38;5;124;03m    \"\"\"\u001b[39;00m\n\u001b[1;32m---> 47\u001b[0m     test_val \u001b[38;5;241m=\u001b[39m \u001b[38;5;28;43mself\u001b[39;49m\u001b[38;5;241;43m.\u001b[39;49m\u001b[43mequation\u001b[49m\u001b[38;5;241;43m.\u001b[39;49m\u001b[43mevaluate\u001b[49m\u001b[43m(\u001b[49m\u001b[43msanity_theta\u001b[49m\u001b[43m)\u001b[49m\n\u001b[0;32m     48\u001b[0m     \u001b[38;5;28;01mif\u001b[39;00m \u001b[38;5;129;01mnot\u001b[39;00m np\u001b[38;5;241m.\u001b[39misfinite(test_val):\n\u001b[0;32m     49\u001b[0m         \u001b[38;5;28;01mraise\u001b[39;00m \u001b[38;5;167;01mRuntimeError\u001b[39;00m(\n\u001b[0;32m     50\u001b[0m             \u001b[38;5;124mf\u001b[39m\u001b[38;5;124m\"\u001b[39m\u001b[38;5;124mMartingale equation not finite at theta=\u001b[39m\u001b[38;5;132;01m{\u001b[39;00msanity_theta\u001b[38;5;132;01m}\u001b[39;00m\u001b[38;5;124m (value=\u001b[39m\u001b[38;5;132;01m{\u001b[39;00mtest_val\u001b[38;5;132;01m}\u001b[39;00m\u001b[38;5;124m). \u001b[39m\u001b[38;5;124m\"\u001b[39m\n\u001b[0;32m     51\u001b[0m             \u001b[38;5;124m\"\u001b[39m\u001b[38;5;124mTry adjusting model parameters or integration settings.\u001b[39m\u001b[38;5;124m\"\u001b[39m\n\u001b[0;32m     52\u001b[0m         )\n",
      "File \u001b[1;32m~\\Projects\\Active_projects\\quantmetrics\\src\\quantmetrics\\risk_neutral\\martingale_equations\\vg_martingale_equation.py:73\u001b[0m, in \u001b[0;36mVGMartingaleEquation.evaluate\u001b[1;34m(self, theta, exact, EXP_CLIP, L, M, N_center, N_tails)\u001b[0m\n\u001b[0;32m     70\u001b[0m         y2 \u001b[38;5;241m=\u001b[39m np\u001b[38;5;241m.\u001b[39mexp(np\u001b[38;5;241m.\u001b[39mclip(exp2, \u001b[38;5;241m-\u001b[39mEXP_CLIP, EXP_CLIP))\n\u001b[0;32m     71\u001b[0m         \u001b[38;5;28;01mreturn\u001b[39;00m (y1 \u001b[38;5;241m-\u001b[39m \u001b[38;5;241m1.0\u001b[39m) \u001b[38;5;241m*\u001b[39m y2 \u001b[38;5;241m*\u001b[39m \u001b[38;5;28mself\u001b[39m\u001b[38;5;241m.\u001b[39mmodel\u001b[38;5;241m.\u001b[39mlevy_density(x)\n\u001b[1;32m---> 73\u001b[0m     I \u001b[38;5;241m=\u001b[39m \u001b[43mintegrate_split\u001b[49m\u001b[43m(\u001b[49m\u001b[43mintegrand\u001b[49m\u001b[43m,\u001b[49m\u001b[43m \u001b[49m\u001b[43mL\u001b[49m\u001b[38;5;241;43m=\u001b[39;49m\u001b[43mL\u001b[49m\u001b[43m,\u001b[49m\u001b[43m \u001b[49m\u001b[43mM\u001b[49m\u001b[38;5;241;43m=\u001b[39;49m\u001b[43mM\u001b[49m\u001b[43m,\u001b[49m\u001b[43m \u001b[49m\u001b[43mN_center\u001b[49m\u001b[38;5;241;43m=\u001b[39;49m\u001b[43mN_center\u001b[49m\u001b[43m,\u001b[49m\u001b[43m \u001b[49m\u001b[43mN_tails\u001b[49m\u001b[38;5;241;43m=\u001b[39;49m\u001b[43mN_tails\u001b[49m\u001b[43m)\u001b[49m\n\u001b[0;32m     74\u001b[0m     \u001b[38;5;28;01mreturn\u001b[39;00m np\u001b[38;5;241m.\u001b[39minf \u001b[38;5;28;01mif\u001b[39;00m \u001b[38;5;129;01mnot\u001b[39;00m np\u001b[38;5;241m.\u001b[39misfinite(I) \u001b[38;5;28;01melse\u001b[39;00m b \u001b[38;5;241m-\u001b[39m r \u001b[38;5;241m+\u001b[39m I\n\u001b[0;32m     76\u001b[0m \u001b[38;5;28;01melse\u001b[39;00m:\n",
      "File \u001b[1;32m~\\Projects\\Active_projects\\quantmetrics\\src\\quantmetrics\\utils\\integration.py:36\u001b[0m, in \u001b[0;36mintegrate_split\u001b[1;34m(f, L, M, N_center, N_tails)\u001b[0m\n\u001b[0;32m     23\u001b[0m \u001b[38;5;28;01mdef\u001b[39;00m \u001b[38;5;21mintegrate_split\u001b[39m(f, L\u001b[38;5;241m=\u001b[39m\u001b[38;5;241m1e-12\u001b[39m, M\u001b[38;5;241m=\u001b[39m\u001b[38;5;241m1.0\u001b[39m, N_center\u001b[38;5;241m=\u001b[39m\u001b[38;5;241m150\u001b[39m, N_tails\u001b[38;5;241m=\u001b[39m\u001b[38;5;241m100\u001b[39m):\n\u001b[0;32m     24\u001b[0m \u001b[38;5;250m    \u001b[39m\u001b[38;5;124;03m\"\"\"\u001b[39;00m\n\u001b[0;32m     25\u001b[0m \u001b[38;5;124;03m    Split integration over [-M, -L], [-L, L], [L, M] using Gauss–Legendre quadrature.\u001b[39;00m\n\u001b[0;32m     26\u001b[0m \n\u001b[1;32m   (...)\u001b[0m\n\u001b[0;32m     33\u001b[0m \u001b[38;5;124;03m        float: Approximate integral over [-M, M].\u001b[39;00m\n\u001b[0;32m     34\u001b[0m \u001b[38;5;124;03m    \"\"\"\u001b[39;00m\n\u001b[0;32m     35\u001b[0m     \u001b[38;5;28;01mreturn\u001b[39;00m (\n\u001b[1;32m---> 36\u001b[0m         \u001b[43mintegrate_affine\u001b[49m\u001b[43m(\u001b[49m\u001b[43mf\u001b[49m\u001b[43m,\u001b[49m\u001b[43m \u001b[49m\u001b[38;5;241;43m-\u001b[39;49m\u001b[43mM\u001b[49m\u001b[43m,\u001b[49m\u001b[43m \u001b[49m\u001b[38;5;241;43m-\u001b[39;49m\u001b[43mL\u001b[49m\u001b[43m,\u001b[49m\u001b[43m \u001b[49m\u001b[43mN_tails\u001b[49m\u001b[43m)\u001b[49m \u001b[38;5;241m+\u001b[39m\n\u001b[0;32m     37\u001b[0m         integrate_affine(f, \u001b[38;5;241m-\u001b[39mL, L, N_center) \u001b[38;5;241m+\u001b[39m\n\u001b[0;32m     38\u001b[0m         integrate_affine(f, L, M, N_tails)\n\u001b[0;32m     39\u001b[0m     )\n",
      "File \u001b[1;32m~\\Projects\\Active_projects\\quantmetrics\\src\\quantmetrics\\utils\\integration.py:16\u001b[0m, in \u001b[0;36mintegrate_affine\u001b[1;34m(f, a, b, N)\u001b[0m\n\u001b[0;32m      4\u001b[0m \u001b[38;5;28;01mdef\u001b[39;00m \u001b[38;5;21mintegrate_affine\u001b[39m(f, a, b, N):\n\u001b[0;32m      5\u001b[0m \u001b[38;5;250m    \u001b[39m\u001b[38;5;124;03m\"\"\"\u001b[39;00m\n\u001b[0;32m      6\u001b[0m \u001b[38;5;124;03m    Gauss–Legendre quadrature with affine transform from [-1, 1] to [a, b].\u001b[39;00m\n\u001b[0;32m      7\u001b[0m \n\u001b[1;32m   (...)\u001b[0m\n\u001b[0;32m     14\u001b[0m \u001b[38;5;124;03m        float: Approximate integral of f over [a, b].\u001b[39;00m\n\u001b[0;32m     15\u001b[0m \u001b[38;5;124;03m    \"\"\"\u001b[39;00m\n\u001b[1;32m---> 16\u001b[0m     nodes, weights \u001b[38;5;241m=\u001b[39m \u001b[43mleggauss\u001b[49m\u001b[43m(\u001b[49m\u001b[43mN\u001b[49m\u001b[43m)\u001b[49m\n\u001b[0;32m     17\u001b[0m     xm \u001b[38;5;241m=\u001b[39m \u001b[38;5;241m0.5\u001b[39m \u001b[38;5;241m*\u001b[39m (b \u001b[38;5;241m+\u001b[39m a)\n\u001b[0;32m     18\u001b[0m     xr \u001b[38;5;241m=\u001b[39m \u001b[38;5;241m0.5\u001b[39m \u001b[38;5;241m*\u001b[39m (b \u001b[38;5;241m-\u001b[39m a)\n",
      "File \u001b[1;32mc:\\Users\\ellae\\anaconda3\\envs\\quantmetrics_env\\Lib\\site-packages\\numpy\\polynomial\\legendre.py:1564\u001b[0m, in \u001b[0;36mleggauss\u001b[1;34m(deg)\u001b[0m\n\u001b[0;32m   1561\u001b[0m \u001b[38;5;66;03m# first approximation of roots. We use the fact that the companion\u001b[39;00m\n\u001b[0;32m   1562\u001b[0m \u001b[38;5;66;03m# matrix is symmetric in this case in order to obtain better zeros.\u001b[39;00m\n\u001b[0;32m   1563\u001b[0m c \u001b[38;5;241m=\u001b[39m np\u001b[38;5;241m.\u001b[39marray([\u001b[38;5;241m0\u001b[39m]\u001b[38;5;241m*\u001b[39mdeg \u001b[38;5;241m+\u001b[39m [\u001b[38;5;241m1\u001b[39m])\n\u001b[1;32m-> 1564\u001b[0m m \u001b[38;5;241m=\u001b[39m \u001b[43mlegcompanion\u001b[49m\u001b[43m(\u001b[49m\u001b[43mc\u001b[49m\u001b[43m)\u001b[49m\n\u001b[0;32m   1565\u001b[0m x \u001b[38;5;241m=\u001b[39m la\u001b[38;5;241m.\u001b[39meigvalsh(m)\n\u001b[0;32m   1567\u001b[0m \u001b[38;5;66;03m# improve roots by one application of Newton\u001b[39;00m\n",
      "File \u001b[1;32mc:\\Users\\ellae\\anaconda3\\envs\\quantmetrics_env\\Lib\\site-packages\\numpy\\polynomial\\legendre.py:1450\u001b[0m, in \u001b[0;36mlegcompanion\u001b[1;34m(c)\u001b[0m\n\u001b[0;32m   1447\u001b[0m     \u001b[38;5;28;01mreturn\u001b[39;00m np\u001b[38;5;241m.\u001b[39marray([[\u001b[38;5;241m-\u001b[39mc[\u001b[38;5;241m0\u001b[39m]\u001b[38;5;241m/\u001b[39mc[\u001b[38;5;241m1\u001b[39m]]])\n\u001b[0;32m   1449\u001b[0m n \u001b[38;5;241m=\u001b[39m \u001b[38;5;28mlen\u001b[39m(c) \u001b[38;5;241m-\u001b[39m \u001b[38;5;241m1\u001b[39m\n\u001b[1;32m-> 1450\u001b[0m mat \u001b[38;5;241m=\u001b[39m np\u001b[38;5;241m.\u001b[39mzeros((n, n), dtype\u001b[38;5;241m=\u001b[39mc\u001b[38;5;241m.\u001b[39mdtype)\n\u001b[0;32m   1451\u001b[0m scl \u001b[38;5;241m=\u001b[39m \u001b[38;5;241m1.\u001b[39m\u001b[38;5;241m/\u001b[39mnp\u001b[38;5;241m.\u001b[39msqrt(\u001b[38;5;241m2\u001b[39m\u001b[38;5;241m*\u001b[39mnp\u001b[38;5;241m.\u001b[39marange(n) \u001b[38;5;241m+\u001b[39m \u001b[38;5;241m1\u001b[39m)\n\u001b[0;32m   1452\u001b[0m top \u001b[38;5;241m=\u001b[39m mat\u001b[38;5;241m.\u001b[39mreshape(\u001b[38;5;241m-\u001b[39m\u001b[38;5;241m1\u001b[39m)[\u001b[38;5;241m1\u001b[39m::n\u001b[38;5;241m+\u001b[39m\u001b[38;5;241m1\u001b[39m]\n",
      "\u001b[1;31mKeyboardInterrupt\u001b[0m: "
     ]
    }
   ],
   "source": [
    "ljd = LJD(\n",
    "    S0=df.loc[date, 'S0'],\n",
    "    mu = ljd_params_df.loc[date, 'mu'],\n",
    "    sigma = ljd_params_df.loc[date, 'sigma'],\n",
    "    lambda_ = ljd_params_df.loc[date, 'lambda_'],\n",
    "    muJ = ljd_params_df.loc[date, 'muJ'],\n",
    "    sigmaJ = ljd_params_df.loc[date, 'sigmaJ']\n",
    ")\n",
    "\n",
    "vg = VG(\n",
    "    S0=df.loc[date, 'S0'],\n",
    "    mu=vg_params_df.loc[date, 'mu'],\n",
    "    m=vg_params_df.loc[date, 'm'],\n",
    "    delta=vg_params_df.loc[date, 'delta'],\n",
    "    kappa=vg_params_df.loc[date, 'kappa'],\n",
    ")\n",
    "\n",
    "psi = np.linspace(-10000, 2000, 300)\n",
    "ljd_thetas_exact = np.zeros(psi.shape, dtype=float)\n",
    "ljd_thetas_levy = np.zeros(psi.shape, dtype=float)\n",
    "vg_thetas_levy = np.zeros(psi.shape, dtype=float)\n",
    "\n",
    "\n",
    "\n",
    "for i in range(len(psi)):\n",
    "    option = Option(\n",
    "            K=K,\n",
    "            r=df.loc[date, 'r'],\n",
    "            T=df.loc[date, 'T'],\n",
    "            q=0,\n",
    "            emm = \"Esscher\",\n",
    "            psi = psi[i],\n",
    "        )\n",
    "    ljd_exact_mpr = MarketPriceOfRisk(ljd, option)\n",
    "    ljd_levy_mpr = MarketPriceOfRisk(ljd, option)\n",
    "    vg_levy_mpr = MarketPriceOfRisk(vg, option)\n",
    "\n",
    "    ljd_thetas_exact[i] = ljd_exact_mpr.solve(\n",
    "        exact=True,\n",
    "        M=2.0,\n",
    "        N_center=150,\n",
    "        N_tails=100,\n",
    "        EXP_CLIP=700,\n",
    "        search_bounds = [-50, 50],\n",
    "        xtol=1e-8,\n",
    "        rtol=1e-8,\n",
    "        maxiter=500)\n",
    "    \n",
    "    ljd_thetas_levy[i] = ljd_levy_mpr.solve(\n",
    "        exact=False,\n",
    "        M=2.0,\n",
    "        N_center=150,\n",
    "        N_tails=100,\n",
    "        EXP_CLIP=700,\n",
    "        search_bounds = [-50, 50],\n",
    "        xtol=1e-8,\n",
    "        rtol=1e-8,\n",
    "        maxiter=500)\n",
    "    \n",
    "    vg_thetas_levy[i] = vg_levy_mpr.solve(\n",
    "        exact=False,\n",
    "        M=2.0,\n",
    "        N_center=150,\n",
    "        N_tails=100,\n",
    "        EXP_CLIP=700,\n",
    "        search_bounds = [-100, 100],\n",
    "        xtol=1e-8,\n",
    "        rtol=1e-8,\n",
    "        maxiter=500)\n",
    "\n",
    "df_thetas_test = pd.DataFrame({\"psi\": psi,  \"ljd_theta_exact\": ljd_thetas_exact, \"ljd_theta_levy\": ljd_thetas_levy, \"vg_theta\":vg_thetas_levy})"
   ]
  },
  {
   "cell_type": "code",
   "execution_count": null,
   "id": "236f59bb",
   "metadata": {},
   "outputs": [
    {
     "data": {
      "application/vnd.plotly.v1+json": {
       "config": {
        "plotlyServerURL": "https://plot.ly"
       },
       "data": [
        {
         "line": {
          "color": "purple"
         },
         "name": "VG θ(ψ)",
         "opacity": 0.8,
         "type": "scatter",
         "x": {
          "bdata": "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",
          "dtype": "f8"
         },
         "xaxis": "x",
         "y": {
          "bdata": "kEBEaq7xPcDy+BUOKd49wE9Rwiegyj3AGlx6shO3PcCb6mOpg6M9wDRomQfwjz3AObQpyFh8PcCe+xfmvWg9wKqRW1wfVT3Ai8jfJX1BPcB0yIM91y09wKdmGp4tGj3AsvtpQoAGPcC6OCwlz/I8wDL8DUEa3zzAAyavkGHLPMBuaqIOpbc8wKQkbbXkozzATiiHfyCQPMCPklpnWHw8wKKZQ2eMaDzAPlyQebxUPMDIr4CY6EA8wIHtRb4QLTzAWb8C5TQZPMCXq9AGVQU8wNGyth1x8TvAsmGiI4ndO8BKj3kSnck7wCFTEuSstTvAu8sykrihO8BF5JAWwI07wMUY0mrDeTvAnzmLiMJlO8C7LUBpvVE7wGuzYwa0PTvAgSBXWaYpO8C1IGpblBU7wCxz2gV+ATvAg6bTUWPtOsCx0244RNk6wIFXsrIgxTrAl4qRufiwOsBLeOxFzJw6wOOTj1CbiDrAbmwz0mV0OsAHX3zDK2A6wMJH+hztSzrAvTAo16k3OsDw/2vqYSM6wOIiFk8VDzrAFTlh/cP6OcClvHHtbeY5wLCoVRcT0jnAvh4Ec7O9OcBnCV34Tqk5wMG9KJ/llDnAYpoXX3eAOcCHpMEvBGw5wGIjpgiMVznA/zgr4Q5DOcDfeJ2wjC45wN58L24FGjnAP3f5EHkFOcDJwviP5/A4wDFwD+JQ3DjAGtED/rTHOMDqAIDaE7M4wEJqEW5tnjjAiEoor8GJOMBBMheUEHU4wMGCEhNaYDjA1ugvIp5LOMCw1GW33DY4wGTuisgVIjjAvIdVS0kNOMAjCls1d/g3wAViD3yf4zfAA2bEFMLON8BUO6n03rk3wO61yRD2pDfAT7UNXgeQN8BNfTjREns3wBgL6F4YZjfA+GWU+xdRN8At7I6bETw3wBabATMFJzfAVFPutfIRN8AuGC4Y2vw2wERKcE275zbAUN05SZbSNsBuieT+ar02wF72nWE5qDbAiOJmZAGTNsCyQxL6wn02wGBiRBV+aDbA2O9xqDJTNsBgFd+l4D02wAh+nv+HKDbAmFmQpygTNsBZWWGPwv01wNmliahV6DXAeM1L5OHSNcCXrLMzZ701wC5NlYflpzXAx7+L0FySNcCf6/f+zHw1wD5X/wI2ZzXAPuiKzJdRNcA5mkVL8js1wCMtm25FJjXAg8m2JZEQNcDSm4Ff1fo0wPdkoQoS5TTAKQF3FUfPNMCW4xxudLk0wA+HZQKaozTATdPZv7eNNMADdreTzXc0wBAw72rbYTTAQRUjMuFLNMCJv6TV3jU0wMRzc0HUHzTA8Tg6YcEJNMDW300gpvMzwC/8qmmC3TPAQ83zJ1bHM8BFFm5FIbEzwJDlAKzjmjPADkoyRZ2EM8AA9iT6TW4zwNLOlbP1VzPAxGjZWZRBM8DebdnUKSszwGvvEQy2FDPA26CO5jj+MsAi++dKsucywIpIQB8i0TLADZZASYi6MsA2ixWu5KMywHMmbDI3jTLAPVxuun92MsAXmb8pvl8ywP8jeWPySDLAr2AmShwyMsD478C/OxsywKKsrKVQBDLAY4Oz3FrtMcDfJAFFWtYxwGyOHr5OvzHAqGntJjioMcBmP6NdFpExwAB9xD/peTHAR0kfqrBiMcDrJsZ4bEsxwFViCoccNDHAD0h2r8AcMcDwIMfLWAUxwNXx5rTk7TDAOPvlQmTWMMAO9vNM174wwD0KWak9pzDA/npuLZePMMAoBpet43cwwEXxNv0iYDDAIMGr7lRIMMAdl0NTeTAwwPkuNPuPGDDA1niRtZgAMMBokoegJtEvwGIz+y//oC/A4ahhsLpwL8C5RQe2WEAvwNBzidLYDy/ArDa+lDrfLsARiZqIfa4uwOuEFzehfS7AB0IWJqVMLsCYWULYiBsuwEv48sxL6i3AW2kKgO24LcC2AdRpbYctwANS4P7KVS3AqYPfrwUkLcAJwnnpHPIswD2QJRQQwCzAcun7k96NLMBNBIrIh1sswHWSoAwLKSzAFlAgtmf2K8BGs8MVncMrwK+I5XaqkCvAGEZEH49dK8CT1MFOSiorwPeSHz/b9irAJUe2I0HDKsANsikpe48qwMRvF3WIWyrAMcjAJWgnKsBmCq9RGfMpwIcEUgebvinA3hyYTOyJKcB3iH8eDFUpwH4LoHD5HynAMqKsLLPqKMB8X+wxOLUowEi9qVSHfyjAWoSXXZ9JKMCwWioJfxMowL3r5QYl3SfACYKc+I+mJ8AExZ9xvm8nwJ8o4fWuOCfA33AA+V8BJ8Bvd0bdz8kmwEwpivL8kSbAf3D9dOVZJsBdcd+LhyEmwMMqEUjh6CXA4SWJovCvJcA0aaJ6s3YlwN1aQpQnPSXAep/QlUoDJcCdQ/sFGskkwOiiQEmTjiTAX3k3n7NTJMCYU4wfeBgkwL0fqrbd3CPAK+UBIuGgI8CDjuPrfmQjwK8q12azJyPApu9iqHrqIsAEdT6D0KwiwGICS4CwbiLAvGGE1xUwIsBnWgRn+/AhwAd2LKlbsSHAImA4qTBxIcA1pAD2czAhwJNEjZIe7yDA8Bb+4yitIMDGV7idimogwJwVxaE6JyDAVKVG113GH8Amc+fKuDwfwKYwLHZtsR7AWtYLRmAkHsAda7EucpUdwLL3wfZ/BB3AGnu/S2FxHMAuKoOH59sbwEOdUctz6BRAdqMA03boFECywgTTdugUQJ1xSmeLJDpAYWQbnx34O0D+1fSCjFs8QCEet2DbFkFAsFebmaeuQkAqo3Egl4RDQCBf20yV90ZAjnJwdlqfRECb4jWh9u5DQIANwN91p0hALseTOQ7GRUAMUNC4dtJEQPs1ndIZ00VAnpqGJf95SEALY5QoxElNQImMgPmAD1JAE/gcuGilT0DBhjZQJdtLQPJKaRdRqFNAaF2V9r6cUECV3wPQ3lxSQBgqF4+znEhAUaisXJfcS0CsWcDq/t1KQG8b0De7c0pAjHRhuqFcUECYwTrpT95FQKp91OldnlJAhsCmRjsRTEAoQULaYpRMQFhtFaI/rlRAJ1xUI/5gTEBRUzA5T3NOQM/97srUFFZA7k6EcXLfUEA0+mij8GJLQMYK6YQHflRAwPuaY4oiVkBvP+uTjNhPQHqbjJVOJlBASE/XOEenVkDBLLjzshxYQN1zpawuMFJA5LEaNSfoTkAbmMK2V6pVQAAAAAAAAPB/",
          "dtype": "f8"
         },
         "yaxis": "y"
        },
        {
         "line": {
          "color": "mediumblue"
         },
         "name": "LJD θ(ψ) approx",
         "opacity": 0.8,
         "type": "scatter",
         "x": {
          "bdata": "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",
          "dtype": "f8"
         },
         "xaxis": "x2",
         "y": {
          "bdata": "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",
          "dtype": "f8"
         },
         "yaxis": "y2"
        },
        {
         "line": {
          "color": "blue"
         },
         "name": "LJD θ(ψ) exact",
         "opacity": 0.8,
         "type": "scatter",
         "x": {
          "bdata": "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",
          "dtype": "f8"
         },
         "xaxis": "x3",
         "y": {
          "bdata": "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",
          "dtype": "f8"
         },
         "yaxis": "y3"
        }
       ],
       "layout": {
        "annotations": [
         {
          "font": {
           "size": 16
          },
          "showarrow": false,
          "text": "VG θ(ψ)",
          "x": 0.5,
          "xanchor": "center",
          "xref": "paper",
          "y": 1,
          "yanchor": "bottom",
          "yref": "paper"
         },
         {
          "font": {
           "size": 16
          },
          "showarrow": false,
          "text": "LJD θ(ψ) approx",
          "x": 0.5,
          "xanchor": "center",
          "xref": "paper",
          "y": 0.66,
          "yanchor": "bottom",
          "yref": "paper"
         },
         {
          "font": {
           "size": 16
          },
          "showarrow": false,
          "text": "LJD θ(ψ) exact",
          "x": 0.5,
          "xanchor": "center",
          "xref": "paper",
          "y": 0.32,
          "yanchor": "bottom",
          "yref": "paper"
         }
        ],
        "height": 600,
        "legend": {
         "x": 0.95,
         "y": 1.2
        },
        "template": {
         "data": {
          "bar": [
           {
            "error_x": {
             "color": "#2a3f5f"
            },
            "error_y": {
             "color": "#2a3f5f"
            },
            "marker": {
             "line": {
              "color": "white",
              "width": 0.5
             },
             "pattern": {
              "fillmode": "overlay",
              "size": 10,
              "solidity": 0.2
             }
            },
            "type": "bar"
           }
          ],
          "barpolar": [
           {
            "marker": {
             "line": {
              "color": "white",
              "width": 0.5
             },
             "pattern": {
              "fillmode": "overlay",
              "size": 10,
              "solidity": 0.2
             }
            },
            "type": "barpolar"
           }
          ],
          "carpet": [
           {
            "aaxis": {
             "endlinecolor": "#2a3f5f",
             "gridcolor": "#C8D4E3",
             "linecolor": "#C8D4E3",
             "minorgridcolor": "#C8D4E3",
             "startlinecolor": "#2a3f5f"
            },
            "baxis": {
             "endlinecolor": "#2a3f5f",
             "gridcolor": "#C8D4E3",
             "linecolor": "#C8D4E3",
             "minorgridcolor": "#C8D4E3",
             "startlinecolor": "#2a3f5f"
            },
            "type": "carpet"
           }
          ],
          "choropleth": [
           {
            "colorbar": {
             "outlinewidth": 0,
             "ticks": ""
            },
            "type": "choropleth"
           }
          ],
          "contour": [
           {
            "colorbar": {
             "outlinewidth": 0,
             "ticks": ""
            },
            "colorscale": [
             [
              0,
              "#0d0887"
             ],
             [
              0.1111111111111111,
              "#46039f"
             ],
             [
              0.2222222222222222,
              "#7201a8"
             ],
             [
              0.3333333333333333,
              "#9c179e"
             ],
             [
              0.4444444444444444,
              "#bd3786"
             ],
             [
              0.5555555555555556,
              "#d8576b"
             ],
             [
              0.6666666666666666,
              "#ed7953"
             ],
             [
              0.7777777777777778,
              "#fb9f3a"
             ],
             [
              0.8888888888888888,
              "#fdca26"
             ],
             [
              1,
              "#f0f921"
             ]
            ],
            "type": "contour"
           }
          ],
          "contourcarpet": [
           {
            "colorbar": {
             "outlinewidth": 0,
             "ticks": ""
            },
            "type": "contourcarpet"
           }
          ],
          "heatmap": [
           {
            "colorbar": {
             "outlinewidth": 0,
             "ticks": ""
            },
            "colorscale": [
             [
              0,
              "#0d0887"
             ],
             [
              0.1111111111111111,
              "#46039f"
             ],
             [
              0.2222222222222222,
              "#7201a8"
             ],
             [
              0.3333333333333333,
              "#9c179e"
             ],
             [
              0.4444444444444444,
              "#bd3786"
             ],
             [
              0.5555555555555556,
              "#d8576b"
             ],
             [
              0.6666666666666666,
              "#ed7953"
             ],
             [
              0.7777777777777778,
              "#fb9f3a"
             ],
             [
              0.8888888888888888,
              "#fdca26"
             ],
             [
              1,
              "#f0f921"
             ]
            ],
            "type": "heatmap"
           }
          ],
          "histogram": [
           {
            "marker": {
             "pattern": {
              "fillmode": "overlay",
              "size": 10,
              "solidity": 0.2
             }
            },
            "type": "histogram"
           }
          ],
          "histogram2d": [
           {
            "colorbar": {
             "outlinewidth": 0,
             "ticks": ""
            },
            "colorscale": [
             [
              0,
              "#0d0887"
             ],
             [
              0.1111111111111111,
              "#46039f"
             ],
             [
              0.2222222222222222,
              "#7201a8"
             ],
             [
              0.3333333333333333,
              "#9c179e"
             ],
             [
              0.4444444444444444,
              "#bd3786"
             ],
             [
              0.5555555555555556,
              "#d8576b"
             ],
             [
              0.6666666666666666,
              "#ed7953"
             ],
             [
              0.7777777777777778,
              "#fb9f3a"
             ],
             [
              0.8888888888888888,
              "#fdca26"
             ],
             [
              1,
              "#f0f921"
             ]
            ],
            "type": "histogram2d"
           }
          ],
          "histogram2dcontour": [
           {
            "colorbar": {
             "outlinewidth": 0,
             "ticks": ""
            },
            "colorscale": [
             [
              0,
              "#0d0887"
             ],
             [
              0.1111111111111111,
              "#46039f"
             ],
             [
              0.2222222222222222,
              "#7201a8"
             ],
             [
              0.3333333333333333,
              "#9c179e"
             ],
             [
              0.4444444444444444,
              "#bd3786"
             ],
             [
              0.5555555555555556,
              "#d8576b"
             ],
             [
              0.6666666666666666,
              "#ed7953"
             ],
             [
              0.7777777777777778,
              "#fb9f3a"
             ],
             [
              0.8888888888888888,
              "#fdca26"
             ],
             [
              1,
              "#f0f921"
             ]
            ],
            "type": "histogram2dcontour"
           }
          ],
          "mesh3d": [
           {
            "colorbar": {
             "outlinewidth": 0,
             "ticks": ""
            },
            "type": "mesh3d"
           }
          ],
          "parcoords": [
           {
            "line": {
             "colorbar": {
              "outlinewidth": 0,
              "ticks": ""
             }
            },
            "type": "parcoords"
           }
          ],
          "pie": [
           {
            "automargin": true,
            "type": "pie"
           }
          ],
          "scatter": [
           {
            "fillpattern": {
             "fillmode": "overlay",
             "size": 10,
             "solidity": 0.2
            },
            "type": "scatter"
           }
          ],
          "scatter3d": [
           {
            "line": {
             "colorbar": {
              "outlinewidth": 0,
              "ticks": ""
             }
            },
            "marker": {
             "colorbar": {
              "outlinewidth": 0,
              "ticks": ""
             }
            },
            "type": "scatter3d"
           }
          ],
          "scattercarpet": [
           {
            "marker": {
             "colorbar": {
              "outlinewidth": 0,
              "ticks": ""
             }
            },
            "type": "scattercarpet"
           }
          ],
          "scattergeo": [
           {
            "marker": {
             "colorbar": {
              "outlinewidth": 0,
              "ticks": ""
             }
            },
            "type": "scattergeo"
           }
          ],
          "scattergl": [
           {
            "marker": {
             "colorbar": {
              "outlinewidth": 0,
              "ticks": ""
             }
            },
            "type": "scattergl"
           }
          ],
          "scattermap": [
           {
            "marker": {
             "colorbar": {
              "outlinewidth": 0,
              "ticks": ""
             }
            },
            "type": "scattermap"
           }
          ],
          "scattermapbox": [
           {
            "marker": {
             "colorbar": {
              "outlinewidth": 0,
              "ticks": ""
             }
            },
            "type": "scattermapbox"
           }
          ],
          "scatterpolar": [
           {
            "marker": {
             "colorbar": {
              "outlinewidth": 0,
              "ticks": ""
             }
            },
            "type": "scatterpolar"
           }
          ],
          "scatterpolargl": [
           {
            "marker": {
             "colorbar": {
              "outlinewidth": 0,
              "ticks": ""
             }
            },
            "type": "scatterpolargl"
           }
          ],
          "scatterternary": [
           {
            "marker": {
             "colorbar": {
              "outlinewidth": 0,
              "ticks": ""
             }
            },
            "type": "scatterternary"
           }
          ],
          "surface": [
           {
            "colorbar": {
             "outlinewidth": 0,
             "ticks": ""
            },
            "colorscale": [
             [
              0,
              "#0d0887"
             ],
             [
              0.1111111111111111,
              "#46039f"
             ],
             [
              0.2222222222222222,
              "#7201a8"
             ],
             [
              0.3333333333333333,
              "#9c179e"
             ],
             [
              0.4444444444444444,
              "#bd3786"
             ],
             [
              0.5555555555555556,
              "#d8576b"
             ],
             [
              0.6666666666666666,
              "#ed7953"
             ],
             [
              0.7777777777777778,
              "#fb9f3a"
             ],
             [
              0.8888888888888888,
              "#fdca26"
             ],
             [
              1,
              "#f0f921"
             ]
            ],
            "type": "surface"
           }
          ],
          "table": [
           {
            "cells": {
             "fill": {
              "color": "#EBF0F8"
             },
             "line": {
              "color": "white"
             }
            },
            "header": {
             "fill": {
              "color": "#C8D4E3"
             },
             "line": {
              "color": "white"
             }
            },
            "type": "table"
           }
          ]
         },
         "layout": {
          "annotationdefaults": {
           "arrowcolor": "#2a3f5f",
           "arrowhead": 0,
           "arrowwidth": 1
          },
          "autotypenumbers": "strict",
          "coloraxis": {
           "colorbar": {
            "outlinewidth": 0,
            "ticks": ""
           }
          },
          "colorscale": {
           "diverging": [
            [
             0,
             "#8e0152"
            ],
            [
             0.1,
             "#c51b7d"
            ],
            [
             0.2,
             "#de77ae"
            ],
            [
             0.3,
             "#f1b6da"
            ],
            [
             0.4,
             "#fde0ef"
            ],
            [
             0.5,
             "#f7f7f7"
            ],
            [
             0.6,
             "#e6f5d0"
            ],
            [
             0.7,
             "#b8e186"
            ],
            [
             0.8,
             "#7fbc41"
            ],
            [
             0.9,
             "#4d9221"
            ],
            [
             1,
             "#276419"
            ]
           ],
           "sequential": [
            [
             0,
             "#0d0887"
            ],
            [
             0.1111111111111111,
             "#46039f"
            ],
            [
             0.2222222222222222,
             "#7201a8"
            ],
            [
             0.3333333333333333,
             "#9c179e"
            ],
            [
             0.4444444444444444,
             "#bd3786"
            ],
            [
             0.5555555555555556,
             "#d8576b"
            ],
            [
             0.6666666666666666,
             "#ed7953"
            ],
            [
             0.7777777777777778,
             "#fb9f3a"
            ],
            [
             0.8888888888888888,
             "#fdca26"
            ],
            [
             1,
             "#f0f921"
            ]
           ],
           "sequentialminus": [
            [
             0,
             "#0d0887"
            ],
            [
             0.1111111111111111,
             "#46039f"
            ],
            [
             0.2222222222222222,
             "#7201a8"
            ],
            [
             0.3333333333333333,
             "#9c179e"
            ],
            [
             0.4444444444444444,
             "#bd3786"
            ],
            [
             0.5555555555555556,
             "#d8576b"
            ],
            [
             0.6666666666666666,
             "#ed7953"
            ],
            [
             0.7777777777777778,
             "#fb9f3a"
            ],
            [
             0.8888888888888888,
             "#fdca26"
            ],
            [
             1,
             "#f0f921"
            ]
           ]
          },
          "colorway": [
           "#636efa",
           "#EF553B",
           "#00cc96",
           "#ab63fa",
           "#FFA15A",
           "#19d3f3",
           "#FF6692",
           "#B6E880",
           "#FF97FF",
           "#FECB52"
          ],
          "font": {
           "color": "#2a3f5f"
          },
          "geo": {
           "bgcolor": "white",
           "lakecolor": "white",
           "landcolor": "white",
           "showlakes": true,
           "showland": true,
           "subunitcolor": "#C8D4E3"
          },
          "hoverlabel": {
           "align": "left"
          },
          "hovermode": "closest",
          "mapbox": {
           "style": "light"
          },
          "paper_bgcolor": "white",
          "plot_bgcolor": "white",
          "polar": {
           "angularaxis": {
            "gridcolor": "#EBF0F8",
            "linecolor": "#EBF0F8",
            "ticks": ""
           },
           "bgcolor": "white",
           "radialaxis": {
            "gridcolor": "#EBF0F8",
            "linecolor": "#EBF0F8",
            "ticks": ""
           }
          },
          "scene": {
           "xaxis": {
            "backgroundcolor": "white",
            "gridcolor": "#DFE8F3",
            "gridwidth": 2,
            "linecolor": "#EBF0F8",
            "showbackground": true,
            "ticks": "",
            "zerolinecolor": "#EBF0F8"
           },
           "yaxis": {
            "backgroundcolor": "white",
            "gridcolor": "#DFE8F3",
            "gridwidth": 2,
            "linecolor": "#EBF0F8",
            "showbackground": true,
            "ticks": "",
            "zerolinecolor": "#EBF0F8"
           },
           "zaxis": {
            "backgroundcolor": "white",
            "gridcolor": "#DFE8F3",
            "gridwidth": 2,
            "linecolor": "#EBF0F8",
            "showbackground": true,
            "ticks": "",
            "zerolinecolor": "#EBF0F8"
           }
          },
          "shapedefaults": {
           "line": {
            "color": "#2a3f5f"
           }
          },
          "ternary": {
           "aaxis": {
            "gridcolor": "#DFE8F3",
            "linecolor": "#A2B1C6",
            "ticks": ""
           },
           "baxis": {
            "gridcolor": "#DFE8F3",
            "linecolor": "#A2B1C6",
            "ticks": ""
           },
           "bgcolor": "white",
           "caxis": {
            "gridcolor": "#DFE8F3",
            "linecolor": "#A2B1C6",
            "ticks": ""
           }
          },
          "title": {
           "x": 0.05
          },
          "xaxis": {
           "automargin": true,
           "gridcolor": "#EBF0F8",
           "linecolor": "#EBF0F8",
           "ticks": "",
           "title": {
            "standoff": 15
           },
           "zerolinecolor": "#EBF0F8",
           "zerolinewidth": 2
          },
          "yaxis": {
           "automargin": true,
           "gridcolor": "#EBF0F8",
           "linecolor": "#EBF0F8",
           "ticks": "",
           "title": {
            "standoff": 15
           },
           "zerolinecolor": "#EBF0F8",
           "zerolinewidth": 2
          }
         }
        },
        "title": {
         "text": "Date: 2019-09-04 and K/S0 = 1.0892578641314694"
        },
        "width": 1000,
        "xaxis": {
         "anchor": "y",
         "domain": [
          0,
          1
         ],
         "matches": "x3",
         "showticklabels": false
        },
        "xaxis2": {
         "anchor": "y2",
         "domain": [
          0,
          1
         ],
         "matches": "x3",
         "showticklabels": false
        },
        "xaxis3": {
         "anchor": "y3",
         "domain": [
          0,
          1
         ],
         "nticks": 12,
         "tickangle": 45,
         "title": {
          "text": "ψ"
         }
        },
        "yaxis": {
         "anchor": "x",
         "domain": [
          0.68,
          1
         ],
         "tickfont": {
          "color": "purple"
         },
         "title": {
          "text": "VG"
         }
        },
        "yaxis2": {
         "anchor": "x2",
         "domain": [
          0.34,
          0.66
         ],
         "tickfont": {
          "color": "mediumblue"
         },
         "title": {
          "text": "LJD approx"
         }
        },
        "yaxis3": {
         "anchor": "x3",
         "domain": [
          0,
          0.32
         ],
         "tickfont": {
          "color": "blue"
         },
         "title": {
          "text": "LJD exact"
         }
        }
       }
      }
     },
     "metadata": {},
     "output_type": "display_data"
    }
   ],
   "source": [
    "from plotly.subplots import make_subplots\n",
    "import plotly.graph_objects as go\n",
    "\n",
    "# Create subplot figure with 2 rows\n",
    "fig = make_subplots(\n",
    "    rows=3, cols=1,\n",
    "    shared_xaxes=True,\n",
    "    vertical_spacing=0.02,  # Smaller value = closer plots\n",
    "    subplot_titles=('VG θ(ψ)', 'LJD θ(ψ) approx', 'LJD θ(ψ) exact')\n",
    ")\n",
    "\n",
    "# ψ(t) trace (top plot)\n",
    "fig.add_trace(go.Scatter(\n",
    "    x=df_thetas_test['psi'],\n",
    "    y=df_thetas_test['vg_theta'],\n",
    "    name='VG θ(ψ)',\n",
    "    line=dict(color='purple'),\n",
    "    opacity=0.8\n",
    "), row=1, col=1)\n",
    "\n",
    "fig.add_trace(go.Scatter(\n",
    "    x=df_thetas_test['psi'],\n",
    "    y=df_thetas_test['ljd_theta_levy'],\n",
    "    name='LJD θ(ψ) approx',\n",
    "    line=dict(color='mediumblue'),\n",
    "    opacity=0.8\n",
    "), row=2, col=1)\n",
    "\n",
    "fig.add_trace(go.Scatter(\n",
    "    x=df_thetas_test['psi'],\n",
    "    y=df_thetas_test['ljd_theta_exact'],\n",
    "    name='LJD θ(ψ) exact',\n",
    "    line=dict(color='blue'),\n",
    "    opacity=0.8\n",
    "), row=3, col=1)\n",
    "\n",
    "# Update layout\n",
    "fig.update_layout(\n",
    "    height=600,\n",
    "    width=1000,\n",
    "    title=f'Date: {date.date()} and K/S0 = {K/df.loc[date,\"S0\"]}',\n",
    "    template='plotly_white',\n",
    "    legend=dict(x=0.95, y=1.2)\n",
    ")\n",
    "\n",
    "# Customize y-axis fonts\n",
    "fig.update_yaxes(title_text='VG', tickfont=dict(color='purple'), row=1, col=1)\n",
    "fig.update_yaxes(title_text='LJD approx', tickfont=dict(color='mediumblue'), row=2, col=1)\n",
    "fig.update_yaxes(title_text='LJD exact', tickfont=dict(color='blue'), row=3, col=1)\n",
    "\n",
    "# Customize x-axis\n",
    "fig.update_xaxes(title_text='ψ', tickangle=45, nticks=12, row=3, col=1)\n",
    "\n",
    "fig.show()"
   ]
  },
  {
   "cell_type": "code",
   "execution_count": 7,
   "id": "935e48ec",
   "metadata": {},
   "outputs": [],
   "source": [
    "from quantmetrics.price_calculators.characteristic_function import CharacteristicFunction"
   ]
  },
  {
   "cell_type": "code",
   "execution_count": 8,
   "id": "722a8fba",
   "metadata": {},
   "outputs": [
    {
     "data": {
      "text/html": [
       "<div>\n",
       "<style scoped>\n",
       "    .dataframe tbody tr th:only-of-type {\n",
       "        vertical-align: middle;\n",
       "    }\n",
       "\n",
       "    .dataframe tbody tr th {\n",
       "        vertical-align: top;\n",
       "    }\n",
       "\n",
       "    .dataframe thead th {\n",
       "        text-align: right;\n",
       "    }\n",
       "</style>\n",
       "<table border=\"1\" class=\"dataframe\">\n",
       "  <thead>\n",
       "    <tr style=\"text-align: right;\">\n",
       "      <th></th>\n",
       "      <th>u</th>\n",
       "      <th>LJD_chr_exact</th>\n",
       "      <th>LJD_chr_levy</th>\n",
       "      <th>VG_chr_exact</th>\n",
       "      <th>VG_chr_levy</th>\n",
       "    </tr>\n",
       "  </thead>\n",
       "  <tbody>\n",
       "    <tr>\n",
       "      <th>0</th>\n",
       "      <td>0.000000-   2.500000j</td>\n",
       "      <td>1.008387e+00+0.000000e+                     00j</td>\n",
       "      <td>1.008387e+00+0.000000e+                     00j</td>\n",
       "      <td>1.007312e+00+0.000000e+                    00j</td>\n",
       "      <td>1.007313e+00+0.000000e+                    00j</td>\n",
       "    </tr>\n",
       "    <tr>\n",
       "      <th>1</th>\n",
       "      <td>117.809725-   2.500000j</td>\n",
       "      <td>-7.469727e-06-7.170288e-                     06j</td>\n",
       "      <td>-7.469727e-06-7.170288e-                     06j</td>\n",
       "      <td>7.507698e-07+4.497258e-                    05j</td>\n",
       "      <td>7.491895e-07+4.498263e-                    05j</td>\n",
       "    </tr>\n",
       "    <tr>\n",
       "      <th>2</th>\n",
       "      <td>235.619449-   2.500000j</td>\n",
       "      <td>-1.885749e-13-1.128012e-                     13j</td>\n",
       "      <td>-1.885749e-13-1.128012e-                     13j</td>\n",
       "      <td>-1.206427e-12-1.060178e-                    11j</td>\n",
       "      <td>-1.206675e-12-1.061130e-                    11j</td>\n",
       "    </tr>\n",
       "    <tr>\n",
       "      <th>3</th>\n",
       "      <td>353.429174-   2.500000j</td>\n",
       "      <td>-6.095165e-25+5.199840e-                     25j</td>\n",
       "      <td>-6.095165e-25+5.199840e-                     25j</td>\n",
       "      <td>3.221655e-18+4.191542e-                    17j</td>\n",
       "      <td>3.223203e-18+4.199962e-                    17j</td>\n",
       "    </tr>\n",
       "    <tr>\n",
       "      <th>4</th>\n",
       "      <td>471.238898-   2.500000j</td>\n",
       "      <td>3.250569e-41+7.317274e-                     41j</td>\n",
       "      <td>3.250569e-41+7.317274e-                     41j</td>\n",
       "      <td>-2.569591e-22-2.281564e-                    21j</td>\n",
       "      <td>-2.575174e-22-2.289720e-                    21j</td>\n",
       "    </tr>\n",
       "    <tr>\n",
       "      <th>5</th>\n",
       "      <td>589.048623-   2.500000j</td>\n",
       "      <td>2.128172e-61-2.779280e-                     62j</td>\n",
       "      <td>2.128172e-61-2.779280e-                     62j</td>\n",
       "      <td>1.628624e-25+7.785203e-                    25j</td>\n",
       "      <td>1.636164e-25+7.828836e-                    25j</td>\n",
       "    </tr>\n",
       "    <tr>\n",
       "      <th>6</th>\n",
       "      <td>706.858347-   2.500000j</td>\n",
       "      <td>2.432950e-87-1.523795e-                     86j</td>\n",
       "      <td>2.432950e-87-1.523795e-                     86j</td>\n",
       "      <td>-3.364364e-28-9.565606e-                    28j</td>\n",
       "      <td>-3.389103e-28-9.643125e-                    28j</td>\n",
       "    </tr>\n",
       "    <tr>\n",
       "      <th>7</th>\n",
       "      <td>824.668072-   2.500000j</td>\n",
       "      <td>-2.684023e-116-1.285013e-                    116j</td>\n",
       "      <td>-2.684023e-116-1.285013e-                    116j</td>\n",
       "      <td>1.591069e-30+2.948885e-                    30j</td>\n",
       "      <td>1.607654e-30+2.981564e-                    30j</td>\n",
       "    </tr>\n",
       "    <tr>\n",
       "      <th>8</th>\n",
       "      <td>942.477796-   2.500000j</td>\n",
       "      <td>-1.031841e-150+1.142148e-                    150j</td>\n",
       "      <td>-1.031841e-150+1.142148e-                    150j</td>\n",
       "      <td>-1.410740e-32-1.788337e-                    32j</td>\n",
       "      <td>-1.430356e-32-1.814363e-                    32j</td>\n",
       "    </tr>\n",
       "    <tr>\n",
       "      <th>9</th>\n",
       "      <td>1060.287521-   2.500000j</td>\n",
       "      <td>1.112374e-189+1.822879e-                    189j</td>\n",
       "      <td>1.112374e-189+1.822879e-                    189j</td>\n",
       "      <td>2.047614e-34+1.789445e-                    34j</td>\n",
       "      <td>2.084117e-34+1.822631e-                    34j</td>\n",
       "    </tr>\n",
       "    <tr>\n",
       "      <th>10</th>\n",
       "      <td>1178.097245-   2.500000j</td>\n",
       "      <td>7.680108e-233-2.040768e-                    233j</td>\n",
       "      <td>7.680108e-233-2.040768e-                    233j</td>\n",
       "      <td>-4.409308e-36-2.555181e-                    36j</td>\n",
       "      <td>-4.507241e-36-2.614273e-                    36j</td>\n",
       "    </tr>\n",
       "    <tr>\n",
       "      <th>11</th>\n",
       "      <td>1295.906970-   2.500000j</td>\n",
       "      <td>2.257656e-282-7.928436e-                    281j</td>\n",
       "      <td>2.257656e-282-7.928436e-                    281j</td>\n",
       "      <td>1.308139e-37+4.422327e-                    38j</td>\n",
       "      <td>1.343549e-37+4.548434e-                    38j</td>\n",
       "    </tr>\n",
       "    <tr>\n",
       "      <th>12</th>\n",
       "      <td>1413.716694-   2.500000j</td>\n",
       "      <td>-0.000000e+00-0.000000e+                     00j</td>\n",
       "      <td>-0.000000e+00-0.000000e+                     00j</td>\n",
       "      <td>-5.047543e-39-6.192355e-                    40j</td>\n",
       "      <td>-5.211162e-39-6.417754e-                    40j</td>\n",
       "    </tr>\n",
       "    <tr>\n",
       "      <th>13</th>\n",
       "      <td>1531.526419-   2.500000j</td>\n",
       "      <td>-0.000000e+00+0.000000e+                     00j</td>\n",
       "      <td>-0.000000e+00+0.000000e+                     00j</td>\n",
       "      <td>2.418112e-40-2.073443e-                    41j</td>\n",
       "      <td>2.510641e-40-2.140006e-                    41j</td>\n",
       "    </tr>\n",
       "    <tr>\n",
       "      <th>14</th>\n",
       "      <td>1649.336143-   2.500000j</td>\n",
       "      <td>0.000000e+00+0.000000e+                     00j</td>\n",
       "      <td>0.000000e+00+0.000000e+                     00j</td>\n",
       "      <td>-1.382947e-41+4.218354e-                    42j</td>\n",
       "      <td>-1.444675e-41+4.398048e-                    42j</td>\n",
       "    </tr>\n",
       "    <tr>\n",
       "      <th>15</th>\n",
       "      <td>1767.145868-   2.500000j</td>\n",
       "      <td>0.000000e+00-0.000000e+                     00j</td>\n",
       "      <td>0.000000e+00+0.000000e+                     00j</td>\n",
       "      <td>9.112596e-43-5.084502e-                    43j</td>\n",
       "      <td>9.582344e-43-5.339280e-                    43j</td>\n",
       "    </tr>\n",
       "  </tbody>\n",
       "</table>\n",
       "</div>"
      ],
      "text/plain": [
       "                           u  \\\n",
       "0      0.000000-   2.500000j   \n",
       "1    117.809725-   2.500000j   \n",
       "2    235.619449-   2.500000j   \n",
       "3    353.429174-   2.500000j   \n",
       "4    471.238898-   2.500000j   \n",
       "5    589.048623-   2.500000j   \n",
       "6    706.858347-   2.500000j   \n",
       "7    824.668072-   2.500000j   \n",
       "8    942.477796-   2.500000j   \n",
       "9   1060.287521-   2.500000j   \n",
       "10  1178.097245-   2.500000j   \n",
       "11  1295.906970-   2.500000j   \n",
       "12  1413.716694-   2.500000j   \n",
       "13  1531.526419-   2.500000j   \n",
       "14  1649.336143-   2.500000j   \n",
       "15  1767.145868-   2.500000j   \n",
       "\n",
       "                                       LJD_chr_exact  \\\n",
       "0    1.008387e+00+0.000000e+                     00j   \n",
       "1   -7.469727e-06-7.170288e-                     06j   \n",
       "2   -1.885749e-13-1.128012e-                     13j   \n",
       "3   -6.095165e-25+5.199840e-                     25j   \n",
       "4    3.250569e-41+7.317274e-                     41j   \n",
       "5    2.128172e-61-2.779280e-                     62j   \n",
       "6    2.432950e-87-1.523795e-                     86j   \n",
       "7  -2.684023e-116-1.285013e-                    116j   \n",
       "8  -1.031841e-150+1.142148e-                    150j   \n",
       "9   1.112374e-189+1.822879e-                    189j   \n",
       "10  7.680108e-233-2.040768e-                    233j   \n",
       "11  2.257656e-282-7.928436e-                    281j   \n",
       "12  -0.000000e+00-0.000000e+                     00j   \n",
       "13  -0.000000e+00+0.000000e+                     00j   \n",
       "14   0.000000e+00+0.000000e+                     00j   \n",
       "15   0.000000e+00-0.000000e+                     00j   \n",
       "\n",
       "                                        LJD_chr_levy  \\\n",
       "0    1.008387e+00+0.000000e+                     00j   \n",
       "1   -7.469727e-06-7.170288e-                     06j   \n",
       "2   -1.885749e-13-1.128012e-                     13j   \n",
       "3   -6.095165e-25+5.199840e-                     25j   \n",
       "4    3.250569e-41+7.317274e-                     41j   \n",
       "5    2.128172e-61-2.779280e-                     62j   \n",
       "6    2.432950e-87-1.523795e-                     86j   \n",
       "7  -2.684023e-116-1.285013e-                    116j   \n",
       "8  -1.031841e-150+1.142148e-                    150j   \n",
       "9   1.112374e-189+1.822879e-                    189j   \n",
       "10  7.680108e-233-2.040768e-                    233j   \n",
       "11  2.257656e-282-7.928436e-                    281j   \n",
       "12  -0.000000e+00-0.000000e+                     00j   \n",
       "13  -0.000000e+00+0.000000e+                     00j   \n",
       "14   0.000000e+00+0.000000e+                     00j   \n",
       "15   0.000000e+00+0.000000e+                     00j   \n",
       "\n",
       "                                      VG_chr_exact  \\\n",
       "0   1.007312e+00+0.000000e+                    00j   \n",
       "1   7.507698e-07+4.497258e-                    05j   \n",
       "2  -1.206427e-12-1.060178e-                    11j   \n",
       "3   3.221655e-18+4.191542e-                    17j   \n",
       "4  -2.569591e-22-2.281564e-                    21j   \n",
       "5   1.628624e-25+7.785203e-                    25j   \n",
       "6  -3.364364e-28-9.565606e-                    28j   \n",
       "7   1.591069e-30+2.948885e-                    30j   \n",
       "8  -1.410740e-32-1.788337e-                    32j   \n",
       "9   2.047614e-34+1.789445e-                    34j   \n",
       "10 -4.409308e-36-2.555181e-                    36j   \n",
       "11  1.308139e-37+4.422327e-                    38j   \n",
       "12 -5.047543e-39-6.192355e-                    40j   \n",
       "13  2.418112e-40-2.073443e-                    41j   \n",
       "14 -1.382947e-41+4.218354e-                    42j   \n",
       "15  9.112596e-43-5.084502e-                    43j   \n",
       "\n",
       "                                       VG_chr_levy  \n",
       "0   1.007313e+00+0.000000e+                    00j  \n",
       "1   7.491895e-07+4.498263e-                    05j  \n",
       "2  -1.206675e-12-1.061130e-                    11j  \n",
       "3   3.223203e-18+4.199962e-                    17j  \n",
       "4  -2.575174e-22-2.289720e-                    21j  \n",
       "5   1.636164e-25+7.828836e-                    25j  \n",
       "6  -3.389103e-28-9.643125e-                    28j  \n",
       "7   1.607654e-30+2.981564e-                    30j  \n",
       "8  -1.430356e-32-1.814363e-                    32j  \n",
       "9   2.084117e-34+1.822631e-                    34j  \n",
       "10 -4.507241e-36-2.614273e-                    36j  \n",
       "11  1.343549e-37+4.548434e-                    38j  \n",
       "12 -5.211162e-39-6.417754e-                    40j  \n",
       "13  2.510641e-40-2.140006e-                    41j  \n",
       "14 -1.444675e-41+4.398048e-                    42j  \n",
       "15  9.582344e-43-5.339280e-                    43j  "
      ]
     },
     "execution_count": 8,
     "metadata": {},
     "output_type": "execute_result"
    }
   ],
   "source": [
    "\n",
    "g = 2  # factor to increase accuracy\n",
    "N = g * 2**3\n",
    "eps = (g * 150.0) ** -1\n",
    "eta = 2 * np.pi / (N * eps)\n",
    "u = np.arange(1, N + 1, 1)\n",
    "vo = eta * (u - 1)\n",
    "alpha_itm = 1.5\n",
    "\n",
    "omega = vo - (alpha_itm + 1) * 1j\n",
    "\n",
    "\n",
    "ljd_levy = LJD(\n",
    "    S0=df.loc[date, 'S0'],\n",
    "    mu = ljd_params_df.loc[date, 'mu'],\n",
    "    sigma = ljd_params_df.loc[date, 'sigma'],\n",
    "    lambda_ = ljd_params_df.loc[date, 'lambda_'],\n",
    "    muJ = ljd_params_df.loc[date, 'muJ'],\n",
    "    sigmaJ = ljd_params_df.loc[date, 'sigmaJ']\n",
    ")\n",
    "vg = VG(\n",
    "    S0=df.loc[date, 'S0'],\n",
    "    mu=vg_params_df.loc[date, 'mu'],\n",
    "    m=vg_params_df.loc[date, 'm'],\n",
    "    delta=vg_params_df.loc[date, 'delta'],\n",
    "    kappa=vg_params_df.loc[date, 'kappa'],\n",
    ")\n",
    "\n",
    "option = Option(\n",
    "            K=K,\n",
    "            r=df.loc[date, 'r'],\n",
    "            T=df.loc[date, 'T'],\n",
    "            q=0,\n",
    "            emm = \"Esscher\",\n",
    "            psi = 0,\n",
    "        )\n",
    "u = omega # np.arange(10,100,10) #omega\n",
    "\n",
    "char_ljd = CharacteristicFunction(ljd_levy,option)\n",
    "\n",
    "char_vg = CharacteristicFunction(vg, option)\n",
    "\n",
    "ljd_int_exact = char_ljd(u, exact = True)\n",
    "ljd_int_levy = char_ljd(u, exact = False, M_int = .5, N_int = 300) # Converges much faster than the VG\n",
    "\n",
    "vg_int_exact = char_vg(u, exact = True, search_bounds=(-100,100))\n",
    "vg_int_levy = char_vg(u, exact = False, M_int = 1, N_int = 20000, search_bounds=(-100,100)) # Needs more points to converge, 100,000 at least for better accuracy\n",
    "df_ljd_int_tmp = pd.DataFrame({\"u\":u, \"LJD_chr_exact\":ljd_int_exact, \"LJD_chr_levy\":ljd_int_levy, \"VG_chr_exact\":vg_int_exact, \"VG_chr_levy\":vg_int_levy})\n",
    "df_ljd_int_tmp\n"
   ]
  },
  {
   "cell_type": "code",
   "execution_count": 9,
   "id": "45c99459",
   "metadata": {},
   "outputs": [
    {
     "data": {
      "text/html": [
       "<div>\n",
       "<style scoped>\n",
       "    .dataframe tbody tr th:only-of-type {\n",
       "        vertical-align: middle;\n",
       "    }\n",
       "\n",
       "    .dataframe tbody tr th {\n",
       "        vertical-align: top;\n",
       "    }\n",
       "\n",
       "    .dataframe thead th {\n",
       "        text-align: right;\n",
       "    }\n",
       "</style>\n",
       "<table border=\"1\" class=\"dataframe\">\n",
       "  <thead>\n",
       "    <tr style=\"text-align: right;\">\n",
       "      <th></th>\n",
       "      <th>u</th>\n",
       "      <th>LJD_chr_exact</th>\n",
       "      <th>LJD_chr_levy</th>\n",
       "      <th>VG_chr_levy</th>\n",
       "    </tr>\n",
       "  </thead>\n",
       "  <tbody>\n",
       "    <tr>\n",
       "      <th>0</th>\n",
       "      <td>0.000000-   2.500000j</td>\n",
       "      <td>1.008420e+00+0.000000e+                     00j</td>\n",
       "      <td>1.008420e+00+0.000000e+                     00j</td>\n",
       "      <td>1.007335e+00+0.000000e+                    00j</td>\n",
       "    </tr>\n",
       "    <tr>\n",
       "      <th>1</th>\n",
       "      <td>117.809725-   2.500000j</td>\n",
       "      <td>-7.010661e-06-7.064504e-                     06j</td>\n",
       "      <td>-7.010661e-06-7.064504e-                     06j</td>\n",
       "      <td>4.013764e-07+4.353350e-                    05j</td>\n",
       "    </tr>\n",
       "    <tr>\n",
       "      <th>2</th>\n",
       "      <td>235.619449-   2.500000j</td>\n",
       "      <td>-1.794481e-13-1.159798e-                     13j</td>\n",
       "      <td>-1.794481e-13-1.159798e-                     13j</td>\n",
       "      <td>-1.070342e-12-1.019199e-                    11j</td>\n",
       "    </tr>\n",
       "    <tr>\n",
       "      <th>3</th>\n",
       "      <td>353.429174-   2.500000j</td>\n",
       "      <td>-6.176920e-25+4.756994e-                     25j</td>\n",
       "      <td>-6.176920e-25+4.756994e-                     25j</td>\n",
       "      <td>2.817704e-18+4.035717e-                    17j</td>\n",
       "    </tr>\n",
       "    <tr>\n",
       "      <th>4</th>\n",
       "      <td>471.238898-   2.500000j</td>\n",
       "      <td>2.681440e-41+7.315518e-                     41j</td>\n",
       "      <td>2.681440e-41+7.315518e-                     41j</td>\n",
       "      <td>-2.354959e-22-2.202859e-                    21j</td>\n",
       "    </tr>\n",
       "    <tr>\n",
       "      <th>5</th>\n",
       "      <td>589.048623-   2.500000j</td>\n",
       "      <td>2.086270e-61-9.701639e-                     63j</td>\n",
       "      <td>2.086276e-61-9.689813e-                     63j</td>\n",
       "      <td>1.540262e-25+7.539951e-                    25j</td>\n",
       "    </tr>\n",
       "    <tr>\n",
       "      <th>6</th>\n",
       "      <td>706.858347-   2.500000j</td>\n",
       "      <td>3.837043e-87-1.451745e-                     86j</td>\n",
       "      <td>4.448372e-87-1.467362e-                     86j</td>\n",
       "      <td>-3.227069e-28-9.295451e-                    28j</td>\n",
       "    </tr>\n",
       "    <tr>\n",
       "      <th>7</th>\n",
       "      <td>824.668072-   2.500000j</td>\n",
       "      <td>-2.448406e-116-1.546177e-                    116j</td>\n",
       "      <td>1.508109e-116-1.907351e-                    115j</td>\n",
       "      <td>1.538624e-30+2.876235e-                    30j</td>\n",
       "    </tr>\n",
       "    <tr>\n",
       "      <th>8</th>\n",
       "      <td>942.477796-   2.500000j</td>\n",
       "      <td>-1.143022e-150+9.679800e-                    151j</td>\n",
       "      <td>-3.963002e-147+3.356111e-                    147j</td>\n",
       "      <td>-1.372598e-32-1.751539e-                    32j</td>\n",
       "    </tr>\n",
       "    <tr>\n",
       "      <th>9</th>\n",
       "      <td>1060.287521-   2.500000j</td>\n",
       "      <td>8.050234e-190+1.915782e-                    189j</td>\n",
       "      <td>1.367886e-188+1.186938e-                    189j</td>\n",
       "      <td>2.003117e-34+1.760974e-                    34j</td>\n",
       "    </tr>\n",
       "    <tr>\n",
       "      <th>10</th>\n",
       "      <td>1178.097245-   2.500000j</td>\n",
       "      <td>7.699542e-233-7.176450e-                    234j</td>\n",
       "      <td>7.830719e-233-1.014922e-                    233j</td>\n",
       "      <td>-4.336510e-36-2.528811e-                    36j</td>\n",
       "    </tr>\n",
       "    <tr>\n",
       "      <th>11</th>\n",
       "      <td>1295.906970-   2.500000j</td>\n",
       "      <td>1.623515e-281-7.545664e-                    281j</td>\n",
       "      <td>1.623088e-281-7.545758e-                    281j</td>\n",
       "      <td>1.293589e-37+4.410012e-                    38j</td>\n",
       "    </tr>\n",
       "    <tr>\n",
       "      <th>12</th>\n",
       "      <td>1413.716694-   2.500000j</td>\n",
       "      <td>-0.000000e+00-0.000000e+                     00j</td>\n",
       "      <td>-0.000000e+00-0.000000e+                     00j</td>\n",
       "      <td>-5.020127e-39-6.282060e-                    40j</td>\n",
       "    </tr>\n",
       "    <tr>\n",
       "      <th>13</th>\n",
       "      <td>1531.526419-   2.500000j</td>\n",
       "      <td>-0.000000e+00+0.000000e+                     00j</td>\n",
       "      <td>-0.000000e+00+0.000000e+                     00j</td>\n",
       "      <td>2.419683e-40-2.018499e-                    41j</td>\n",
       "    </tr>\n",
       "    <tr>\n",
       "      <th>14</th>\n",
       "      <td>1649.336143-   2.500000j</td>\n",
       "      <td>0.000000e+00+0.000000e+                     00j</td>\n",
       "      <td>0.000000e+00+0.000000e+                     00j</td>\n",
       "      <td>-1.392890e-41+4.214893e-                    42j</td>\n",
       "    </tr>\n",
       "    <tr>\n",
       "      <th>15</th>\n",
       "      <td>1767.145868-   2.500000j</td>\n",
       "      <td>0.000000e+00-0.000000e+                     00j</td>\n",
       "      <td>0.000000e+00+0.000000e+                     00j</td>\n",
       "      <td>9.242517e-43-5.130983e-                    43j</td>\n",
       "    </tr>\n",
       "  </tbody>\n",
       "</table>\n",
       "</div>"
      ],
      "text/plain": [
       "                           u  \\\n",
       "0      0.000000-   2.500000j   \n",
       "1    117.809725-   2.500000j   \n",
       "2    235.619449-   2.500000j   \n",
       "3    353.429174-   2.500000j   \n",
       "4    471.238898-   2.500000j   \n",
       "5    589.048623-   2.500000j   \n",
       "6    706.858347-   2.500000j   \n",
       "7    824.668072-   2.500000j   \n",
       "8    942.477796-   2.500000j   \n",
       "9   1060.287521-   2.500000j   \n",
       "10  1178.097245-   2.500000j   \n",
       "11  1295.906970-   2.500000j   \n",
       "12  1413.716694-   2.500000j   \n",
       "13  1531.526419-   2.500000j   \n",
       "14  1649.336143-   2.500000j   \n",
       "15  1767.145868-   2.500000j   \n",
       "\n",
       "                                       LJD_chr_exact  \\\n",
       "0    1.008420e+00+0.000000e+                     00j   \n",
       "1   -7.010661e-06-7.064504e-                     06j   \n",
       "2   -1.794481e-13-1.159798e-                     13j   \n",
       "3   -6.176920e-25+4.756994e-                     25j   \n",
       "4    2.681440e-41+7.315518e-                     41j   \n",
       "5    2.086270e-61-9.701639e-                     63j   \n",
       "6    3.837043e-87-1.451745e-                     86j   \n",
       "7  -2.448406e-116-1.546177e-                    116j   \n",
       "8  -1.143022e-150+9.679800e-                    151j   \n",
       "9   8.050234e-190+1.915782e-                    189j   \n",
       "10  7.699542e-233-7.176450e-                    234j   \n",
       "11  1.623515e-281-7.545664e-                    281j   \n",
       "12  -0.000000e+00-0.000000e+                     00j   \n",
       "13  -0.000000e+00+0.000000e+                     00j   \n",
       "14   0.000000e+00+0.000000e+                     00j   \n",
       "15   0.000000e+00-0.000000e+                     00j   \n",
       "\n",
       "                                        LJD_chr_levy  \\\n",
       "0    1.008420e+00+0.000000e+                     00j   \n",
       "1   -7.010661e-06-7.064504e-                     06j   \n",
       "2   -1.794481e-13-1.159798e-                     13j   \n",
       "3   -6.176920e-25+4.756994e-                     25j   \n",
       "4    2.681440e-41+7.315518e-                     41j   \n",
       "5    2.086276e-61-9.689813e-                     63j   \n",
       "6    4.448372e-87-1.467362e-                     86j   \n",
       "7   1.508109e-116-1.907351e-                    115j   \n",
       "8  -3.963002e-147+3.356111e-                    147j   \n",
       "9   1.367886e-188+1.186938e-                    189j   \n",
       "10  7.830719e-233-1.014922e-                    233j   \n",
       "11  1.623088e-281-7.545758e-                    281j   \n",
       "12  -0.000000e+00-0.000000e+                     00j   \n",
       "13  -0.000000e+00+0.000000e+                     00j   \n",
       "14   0.000000e+00+0.000000e+                     00j   \n",
       "15   0.000000e+00+0.000000e+                     00j   \n",
       "\n",
       "                                       VG_chr_levy  \n",
       "0   1.007335e+00+0.000000e+                    00j  \n",
       "1   4.013764e-07+4.353350e-                    05j  \n",
       "2  -1.070342e-12-1.019199e-                    11j  \n",
       "3   2.817704e-18+4.035717e-                    17j  \n",
       "4  -2.354959e-22-2.202859e-                    21j  \n",
       "5   1.540262e-25+7.539951e-                    25j  \n",
       "6  -3.227069e-28-9.295451e-                    28j  \n",
       "7   1.538624e-30+2.876235e-                    30j  \n",
       "8  -1.372598e-32-1.751539e-                    32j  \n",
       "9   2.003117e-34+1.760974e-                    34j  \n",
       "10 -4.336510e-36-2.528811e-                    36j  \n",
       "11  1.293589e-37+4.410012e-                    38j  \n",
       "12 -5.020127e-39-6.282060e-                    40j  \n",
       "13  2.419683e-40-2.018499e-                    41j  \n",
       "14 -1.392890e-41+4.214893e-                    42j  \n",
       "15  9.242517e-43-5.130983e-                    43j  "
      ]
     },
     "execution_count": 9,
     "metadata": {},
     "output_type": "execute_result"
    }
   ],
   "source": [
    "\n",
    "g = 2  # factor to increase accuracy\n",
    "N = g * 2**3\n",
    "eps = (g * 150.0) ** -1\n",
    "eta = 2 * np.pi / (N * eps)\n",
    "u = np.arange(1, N + 1, 1)\n",
    "vo = eta * (u - 1)\n",
    "alpha_itm = 1.5\n",
    "\n",
    "omega = vo - (alpha_itm + 1) * 1j\n",
    "\n",
    "\n",
    "ljd_levy = LJD(\n",
    "    S0=df.loc[date, 'S0'],\n",
    "    mu = ljd_params_df.loc[date, 'mu'],\n",
    "    sigma = ljd_params_df.loc[date, 'sigma'],\n",
    "    lambda_ = ljd_params_df.loc[date, 'lambda_'],\n",
    "    muJ = ljd_params_df.loc[date, 'muJ'],\n",
    "    sigmaJ = ljd_params_df.loc[date, 'sigmaJ']\n",
    ")\n",
    "vg = VG(\n",
    "    S0=df.loc[date, 'S0'],\n",
    "    mu=vg_params_df.loc[date, 'mu'],\n",
    "    m=vg_params_df.loc[date, 'm'],\n",
    "    delta=vg_params_df.loc[date, 'delta'],\n",
    "    kappa=vg_params_df.loc[date, 'kappa'],\n",
    ")\n",
    "\n",
    "option = Option(\n",
    "            K=K,\n",
    "            r=df.loc[date, 'r'],\n",
    "            T=df.loc[date, 'T'],\n",
    "            q=0,\n",
    "            emm = \"Esscher\",\n",
    "            psi = 20,\n",
    "        )\n",
    "u = omega # np.arange(10,100,10) #omega\n",
    "\n",
    "char_ljd = CharacteristicFunction(ljd_levy,option)\n",
    "\n",
    "char_vg = CharacteristicFunction(vg, option)\n",
    "\n",
    "ljd_int_exact = char_ljd(u, exact = True)\n",
    "ljd_int_levy = char_ljd(u, exact = False, M_int = 1.0, N_int = 300)\n",
    "\n",
    "\n",
    "vg_int_levy = char_vg(u, exact = False, M_int = 1.0, N_int = 20_000)\n",
    "df_ljd_int_tmp = pd.DataFrame({\"u\":u, \"LJD_chr_exact\":ljd_int_exact, \"LJD_chr_levy\":ljd_int_levy,  \"VG_chr_levy\":vg_int_levy})\n",
    "df_ljd_int_tmp\n"
   ]
  },
  {
   "cell_type": "code",
   "execution_count": 12,
   "id": "b9646cf7",
   "metadata": {},
   "outputs": [
    {
     "data": {
      "text/html": [
       "<div>\n",
       "<style scoped>\n",
       "    .dataframe tbody tr th:only-of-type {\n",
       "        vertical-align: middle;\n",
       "    }\n",
       "\n",
       "    .dataframe tbody tr th {\n",
       "        vertical-align: top;\n",
       "    }\n",
       "\n",
       "    .dataframe thead th {\n",
       "        text-align: right;\n",
       "    }\n",
       "</style>\n",
       "<table border=\"1\" class=\"dataframe\">\n",
       "  <thead>\n",
       "    <tr style=\"text-align: right;\">\n",
       "      <th></th>\n",
       "      <th>K</th>\n",
       "      <th>LJD exact</th>\n",
       "      <th>LJD approx</th>\n",
       "      <th>VG exact</th>\n",
       "      <th>VG approx</th>\n",
       "    </tr>\n",
       "  </thead>\n",
       "  <tbody>\n",
       "    <tr>\n",
       "      <th>0</th>\n",
       "      <td>2925.0</td>\n",
       "      <td>67.201470</td>\n",
       "      <td>67.201470</td>\n",
       "      <td>59.932411</td>\n",
       "      <td>59.932640</td>\n",
       "    </tr>\n",
       "    <tr>\n",
       "      <th>1</th>\n",
       "      <td>2970.0</td>\n",
       "      <td>45.267017</td>\n",
       "      <td>45.267017</td>\n",
       "      <td>38.358488</td>\n",
       "      <td>38.358550</td>\n",
       "    </tr>\n",
       "    <tr>\n",
       "      <th>2</th>\n",
       "      <td>3020.0</td>\n",
       "      <td>27.267373</td>\n",
       "      <td>27.267373</td>\n",
       "      <td>21.548750</td>\n",
       "      <td>21.548703</td>\n",
       "    </tr>\n",
       "    <tr>\n",
       "      <th>3</th>\n",
       "      <td>2835.0</td>\n",
       "      <td>126.991551</td>\n",
       "      <td>126.991551</td>\n",
       "      <td>121.261619</td>\n",
       "      <td>121.262274</td>\n",
       "    </tr>\n",
       "    <tr>\n",
       "      <th>4</th>\n",
       "      <td>2840.0</td>\n",
       "      <td>123.171018</td>\n",
       "      <td>123.171018</td>\n",
       "      <td>117.296458</td>\n",
       "      <td>117.297090</td>\n",
       "    </tr>\n",
       "    <tr>\n",
       "      <th>5</th>\n",
       "      <td>2885.0</td>\n",
       "      <td>91.300745</td>\n",
       "      <td>91.300745</td>\n",
       "      <td>84.387805</td>\n",
       "      <td>84.388219</td>\n",
       "    </tr>\n",
       "    <tr>\n",
       "      <th>6</th>\n",
       "      <td>2900.0</td>\n",
       "      <td>81.770659</td>\n",
       "      <td>81.770659</td>\n",
       "      <td>74.651935</td>\n",
       "      <td>74.652277</td>\n",
       "    </tr>\n",
       "    <tr>\n",
       "      <th>7</th>\n",
       "      <td>2915.0</td>\n",
       "      <td>72.828198</td>\n",
       "      <td>72.828198</td>\n",
       "      <td>65.589247</td>\n",
       "      <td>65.589520</td>\n",
       "    </tr>\n",
       "    <tr>\n",
       "      <th>8</th>\n",
       "      <td>2925.0</td>\n",
       "      <td>67.201470</td>\n",
       "      <td>67.201470</td>\n",
       "      <td>59.932411</td>\n",
       "      <td>59.932640</td>\n",
       "    </tr>\n",
       "    <tr>\n",
       "      <th>9</th>\n",
       "      <td>2950.0</td>\n",
       "      <td>54.329335</td>\n",
       "      <td>54.329335</td>\n",
       "      <td>47.162901</td>\n",
       "      <td>47.163030</td>\n",
       "    </tr>\n",
       "    <tr>\n",
       "      <th>10</th>\n",
       "      <td>2960.0</td>\n",
       "      <td>49.661324</td>\n",
       "      <td>49.661324</td>\n",
       "      <td>42.605269</td>\n",
       "      <td>42.605363</td>\n",
       "    </tr>\n",
       "    <tr>\n",
       "      <th>11</th>\n",
       "      <td>2965.0</td>\n",
       "      <td>47.430086</td>\n",
       "      <td>47.430086</td>\n",
       "      <td>40.443294</td>\n",
       "      <td>40.443372</td>\n",
       "    </tr>\n",
       "    <tr>\n",
       "      <th>12</th>\n",
       "      <td>2970.0</td>\n",
       "      <td>45.267017</td>\n",
       "      <td>45.267017</td>\n",
       "      <td>38.358488</td>\n",
       "      <td>38.358550</td>\n",
       "    </tr>\n",
       "    <tr>\n",
       "      <th>13</th>\n",
       "      <td>2975.0</td>\n",
       "      <td>43.171756</td>\n",
       "      <td>43.171756</td>\n",
       "      <td>36.350158</td>\n",
       "      <td>36.350205</td>\n",
       "    </tr>\n",
       "    <tr>\n",
       "      <th>14</th>\n",
       "      <td>2980.0</td>\n",
       "      <td>41.143863</td>\n",
       "      <td>41.143863</td>\n",
       "      <td>34.417494</td>\n",
       "      <td>34.417528</td>\n",
       "    </tr>\n",
       "    <tr>\n",
       "      <th>15</th>\n",
       "      <td>2985.0</td>\n",
       "      <td>39.182814</td>\n",
       "      <td>39.182814</td>\n",
       "      <td>32.559578</td>\n",
       "      <td>32.559599</td>\n",
       "    </tr>\n",
       "    <tr>\n",
       "      <th>16</th>\n",
       "      <td>2990.0</td>\n",
       "      <td>37.288010</td>\n",
       "      <td>37.288010</td>\n",
       "      <td>30.775382</td>\n",
       "      <td>30.775391</td>\n",
       "    </tr>\n",
       "    <tr>\n",
       "      <th>17</th>\n",
       "      <td>2995.0</td>\n",
       "      <td>35.458773</td>\n",
       "      <td>35.458773</td>\n",
       "      <td>29.063778</td>\n",
       "      <td>29.063775</td>\n",
       "    </tr>\n",
       "    <tr>\n",
       "      <th>18</th>\n",
       "      <td>3000.0</td>\n",
       "      <td>33.694352</td>\n",
       "      <td>33.694352</td>\n",
       "      <td>27.423541</td>\n",
       "      <td>27.423527</td>\n",
       "    </tr>\n",
       "    <tr>\n",
       "      <th>19</th>\n",
       "      <td>3005.0</td>\n",
       "      <td>31.993925</td>\n",
       "      <td>31.993925</td>\n",
       "      <td>25.853356</td>\n",
       "      <td>25.853333</td>\n",
       "    </tr>\n",
       "    <tr>\n",
       "      <th>20</th>\n",
       "      <td>3010.0</td>\n",
       "      <td>30.356601</td>\n",
       "      <td>30.356601</td>\n",
       "      <td>24.351825</td>\n",
       "      <td>24.351793</td>\n",
       "    </tr>\n",
       "    <tr>\n",
       "      <th>21</th>\n",
       "      <td>3015.0</td>\n",
       "      <td>28.781423</td>\n",
       "      <td>28.781423</td>\n",
       "      <td>22.917472</td>\n",
       "      <td>22.917432</td>\n",
       "    </tr>\n",
       "    <tr>\n",
       "      <th>22</th>\n",
       "      <td>3020.0</td>\n",
       "      <td>27.267373</td>\n",
       "      <td>27.267373</td>\n",
       "      <td>21.548750</td>\n",
       "      <td>21.548703</td>\n",
       "    </tr>\n",
       "    <tr>\n",
       "      <th>23</th>\n",
       "      <td>3025.0</td>\n",
       "      <td>25.813372</td>\n",
       "      <td>25.813372</td>\n",
       "      <td>20.244049</td>\n",
       "      <td>20.243995</td>\n",
       "    </tr>\n",
       "    <tr>\n",
       "      <th>24</th>\n",
       "      <td>3030.0</td>\n",
       "      <td>24.418289</td>\n",
       "      <td>24.418289</td>\n",
       "      <td>19.001700</td>\n",
       "      <td>19.001641</td>\n",
       "    </tr>\n",
       "    <tr>\n",
       "      <th>25</th>\n",
       "      <td>3035.0</td>\n",
       "      <td>23.080940</td>\n",
       "      <td>23.080940</td>\n",
       "      <td>17.819988</td>\n",
       "      <td>17.819923</td>\n",
       "    </tr>\n",
       "    <tr>\n",
       "      <th>26</th>\n",
       "      <td>3040.0</td>\n",
       "      <td>21.800094</td>\n",
       "      <td>21.800094</td>\n",
       "      <td>16.697152</td>\n",
       "      <td>16.697083</td>\n",
       "    </tr>\n",
       "    <tr>\n",
       "      <th>27</th>\n",
       "      <td>3045.0</td>\n",
       "      <td>20.574478</td>\n",
       "      <td>20.574478</td>\n",
       "      <td>15.631397</td>\n",
       "      <td>15.631325</td>\n",
       "    </tr>\n",
       "    <tr>\n",
       "      <th>28</th>\n",
       "      <td>3050.0</td>\n",
       "      <td>19.402777</td>\n",
       "      <td>19.402777</td>\n",
       "      <td>14.620900</td>\n",
       "      <td>14.620824</td>\n",
       "    </tr>\n",
       "    <tr>\n",
       "      <th>29</th>\n",
       "      <td>3055.0</td>\n",
       "      <td>18.283645</td>\n",
       "      <td>18.283645</td>\n",
       "      <td>13.663815</td>\n",
       "      <td>13.663736</td>\n",
       "    </tr>\n",
       "    <tr>\n",
       "      <th>30</th>\n",
       "      <td>3060.0</td>\n",
       "      <td>17.215704</td>\n",
       "      <td>17.215704</td>\n",
       "      <td>12.758281</td>\n",
       "      <td>12.758201</td>\n",
       "    </tr>\n",
       "    <tr>\n",
       "      <th>31</th>\n",
       "      <td>3065.0</td>\n",
       "      <td>16.197549</td>\n",
       "      <td>16.197549</td>\n",
       "      <td>11.902430</td>\n",
       "      <td>11.902348</td>\n",
       "    </tr>\n",
       "    <tr>\n",
       "      <th>32</th>\n",
       "      <td>3070.0</td>\n",
       "      <td>15.227754</td>\n",
       "      <td>15.227754</td>\n",
       "      <td>11.094390</td>\n",
       "      <td>11.094308</td>\n",
       "    </tr>\n",
       "    <tr>\n",
       "      <th>33</th>\n",
       "      <td>3075.0</td>\n",
       "      <td>14.304876</td>\n",
       "      <td>14.304876</td>\n",
       "      <td>10.332295</td>\n",
       "      <td>10.332211</td>\n",
       "    </tr>\n",
       "    <tr>\n",
       "      <th>34</th>\n",
       "      <td>3085.0</td>\n",
       "      <td>12.594031</td>\n",
       "      <td>12.594031</td>\n",
       "      <td>8.938517</td>\n",
       "      <td>8.938434</td>\n",
       "    </tr>\n",
       "    <tr>\n",
       "      <th>35</th>\n",
       "      <td>3095.0</td>\n",
       "      <td>11.053445</td>\n",
       "      <td>11.053445</td>\n",
       "      <td>7.706617</td>\n",
       "      <td>7.716053</td>\n",
       "    </tr>\n",
       "    <tr>\n",
       "      <th>36</th>\n",
       "      <td>3100.0</td>\n",
       "      <td>10.342823</td>\n",
       "      <td>10.342823</td>\n",
       "      <td>7.146399</td>\n",
       "      <td>7.155533</td>\n",
       "    </tr>\n",
       "    <tr>\n",
       "      <th>37</th>\n",
       "      <td>3105.0</td>\n",
       "      <td>9.670965</td>\n",
       "      <td>9.670965</td>\n",
       "      <td>6.621945</td>\n",
       "      <td>6.630797</td>\n",
       "    </tr>\n",
       "    <tr>\n",
       "      <th>38</th>\n",
       "      <td>3110.0</td>\n",
       "      <td>9.035163</td>\n",
       "      <td>9.035163</td>\n",
       "      <td>6.130304</td>\n",
       "      <td>6.138889</td>\n",
       "    </tr>\n",
       "    <tr>\n",
       "      <th>39</th>\n",
       "      <td>3120.0</td>\n",
       "      <td>7.868369</td>\n",
       "      <td>7.868369</td>\n",
       "      <td>5.241251</td>\n",
       "      <td>5.249348</td>\n",
       "    </tr>\n",
       "    <tr>\n",
       "      <th>40</th>\n",
       "      <td>3125.0</td>\n",
       "      <td>7.334425</td>\n",
       "      <td>7.334425</td>\n",
       "      <td>4.840528</td>\n",
       "      <td>4.848402</td>\n",
       "    </tr>\n",
       "    <tr>\n",
       "      <th>41</th>\n",
       "      <td>3140.0</td>\n",
       "      <td>6.530277</td>\n",
       "      <td>6.530277</td>\n",
       "      <td>4.273369</td>\n",
       "      <td>4.280663</td>\n",
       "    </tr>\n",
       "    <tr>\n",
       "      <th>42</th>\n",
       "      <td>3155.0</td>\n",
       "      <td>4.733520</td>\n",
       "      <td>4.733520</td>\n",
       "      <td>2.952505</td>\n",
       "      <td>2.959255</td>\n",
       "    </tr>\n",
       "    <tr>\n",
       "      <th>43</th>\n",
       "      <td>3175.0</td>\n",
       "      <td>3.481954</td>\n",
       "      <td>3.481954</td>\n",
       "      <td>2.090554</td>\n",
       "      <td>2.096715</td>\n",
       "    </tr>\n",
       "    <tr>\n",
       "      <th>44</th>\n",
       "      <td>3200.0</td>\n",
       "      <td>2.333112</td>\n",
       "      <td>2.333112</td>\n",
       "      <td>1.335322</td>\n",
       "      <td>1.340876</td>\n",
       "    </tr>\n",
       "  </tbody>\n",
       "</table>\n",
       "</div>"
      ],
      "text/plain": [
       "         K   LJD exact  LJD approx    VG exact   VG approx\n",
       "0   2925.0   67.201470   67.201470   59.932411   59.932640\n",
       "1   2970.0   45.267017   45.267017   38.358488   38.358550\n",
       "2   3020.0   27.267373   27.267373   21.548750   21.548703\n",
       "3   2835.0  126.991551  126.991551  121.261619  121.262274\n",
       "4   2840.0  123.171018  123.171018  117.296458  117.297090\n",
       "5   2885.0   91.300745   91.300745   84.387805   84.388219\n",
       "6   2900.0   81.770659   81.770659   74.651935   74.652277\n",
       "7   2915.0   72.828198   72.828198   65.589247   65.589520\n",
       "8   2925.0   67.201470   67.201470   59.932411   59.932640\n",
       "9   2950.0   54.329335   54.329335   47.162901   47.163030\n",
       "10  2960.0   49.661324   49.661324   42.605269   42.605363\n",
       "11  2965.0   47.430086   47.430086   40.443294   40.443372\n",
       "12  2970.0   45.267017   45.267017   38.358488   38.358550\n",
       "13  2975.0   43.171756   43.171756   36.350158   36.350205\n",
       "14  2980.0   41.143863   41.143863   34.417494   34.417528\n",
       "15  2985.0   39.182814   39.182814   32.559578   32.559599\n",
       "16  2990.0   37.288010   37.288010   30.775382   30.775391\n",
       "17  2995.0   35.458773   35.458773   29.063778   29.063775\n",
       "18  3000.0   33.694352   33.694352   27.423541   27.423527\n",
       "19  3005.0   31.993925   31.993925   25.853356   25.853333\n",
       "20  3010.0   30.356601   30.356601   24.351825   24.351793\n",
       "21  3015.0   28.781423   28.781423   22.917472   22.917432\n",
       "22  3020.0   27.267373   27.267373   21.548750   21.548703\n",
       "23  3025.0   25.813372   25.813372   20.244049   20.243995\n",
       "24  3030.0   24.418289   24.418289   19.001700   19.001641\n",
       "25  3035.0   23.080940   23.080940   17.819988   17.819923\n",
       "26  3040.0   21.800094   21.800094   16.697152   16.697083\n",
       "27  3045.0   20.574478   20.574478   15.631397   15.631325\n",
       "28  3050.0   19.402777   19.402777   14.620900   14.620824\n",
       "29  3055.0   18.283645   18.283645   13.663815   13.663736\n",
       "30  3060.0   17.215704   17.215704   12.758281   12.758201\n",
       "31  3065.0   16.197549   16.197549   11.902430   11.902348\n",
       "32  3070.0   15.227754   15.227754   11.094390   11.094308\n",
       "33  3075.0   14.304876   14.304876   10.332295   10.332211\n",
       "34  3085.0   12.594031   12.594031    8.938517    8.938434\n",
       "35  3095.0   11.053445   11.053445    7.706617    7.716053\n",
       "36  3100.0   10.342823   10.342823    7.146399    7.155533\n",
       "37  3105.0    9.670965    9.670965    6.621945    6.630797\n",
       "38  3110.0    9.035163    9.035163    6.130304    6.138889\n",
       "39  3120.0    7.868369    7.868369    5.241251    5.249348\n",
       "40  3125.0    7.334425    7.334425    4.840528    4.848402\n",
       "41  3140.0    6.530277    6.530277    4.273369    4.280663\n",
       "42  3155.0    4.733520    4.733520    2.952505    2.959255\n",
       "43  3175.0    3.481954    3.481954    2.090554    2.096715\n",
       "44  3200.0    2.333112    2.333112    1.335322    1.340876"
      ]
     },
     "execution_count": 12,
     "metadata": {},
     "output_type": "execute_result"
    }
   ],
   "source": [
    "# Use the original code to compare prices\n",
    "ljd = LJD(\n",
    "    S0=df.loc[date, 'S0'],\n",
    "    mu = ljd_params_df.loc[date, 'mu'],\n",
    "    sigma = ljd_params_df.loc[date, 'sigma'],\n",
    "    lambda_ = ljd_params_df.loc[date, 'lambda_'],\n",
    "    muJ = ljd_params_df.loc[date, 'muJ'],\n",
    "    sigmaJ = ljd_params_df.loc[date, 'sigmaJ']\n",
    ")\n",
    "\n",
    "vg = VG(\n",
    "    S0=df.loc[date, 'S0'],\n",
    "    mu=vg_params_df.loc[date, 'mu'],\n",
    "    m=vg_params_df.loc[date, 'm'],\n",
    "    delta=vg_params_df.loc[date, 'delta'],\n",
    "    kappa=vg_params_df.loc[date, 'kappa'],\n",
    ")\n",
    "\n",
    "option = Option(\n",
    "            K=df.loc[date, 'K'],\n",
    "            r=df.loc[date, 'r'],\n",
    "            T=df.loc[date, 'T'],\n",
    "            q=0,\n",
    "            emm = \"Esscher\",\n",
    "            psi = 0,\n",
    "        )\n",
    "\n",
    "ljd_pricer_exact = OptionPricer(ljd, option)\n",
    "ljd_prices_exact = ljd_pricer_exact.fft(exact = True, L = 1e-12, search_bounds=(-100,100))[0]\n",
    "\n",
    "ljd_pricer_levy = OptionPricer(ljd, option)\n",
    "ljd_prices_levy = ljd_pricer_levy.fft(exact=False, M_int = 1,L = 1e-12, search_bounds=(-100,100))[0]\n",
    "\n",
    "vg_pricer_exact = OptionPricer(vg, option)\n",
    "vg_prices_exact = vg_pricer_exact.fft(exact=True,L = 1e-12, search_bounds=(-100,100))[0]\n",
    "\n",
    "vg_pricer_levy = OptionPricer(vg, option)\n",
    "vg_prices_levy = vg_pricer_levy.fft(exact=False, M_int = 1.0, N_int=20_000,L = 1e-12, search_bounds=(-100,100))[0]\n",
    "\n",
    "df_option_prices_test = pd.DataFrame({\n",
    "    \"K\": option.K,\n",
    "    \"LJD exact\": ljd_prices_exact,\n",
    "    \"LJD approx\": ljd_prices_levy,\n",
    "    \"VG exact\": vg_prices_exact,\n",
    "    \"VG approx\": vg_prices_levy\n",
    "})\n",
    "\n",
    "df_option_prices_test"
   ]
  },
  {
   "cell_type": "code",
   "execution_count": 13,
   "id": "a03f56e3",
   "metadata": {},
   "outputs": [
    {
     "data": {
      "text/plain": [
       "Timestamp('2019-09-04 00:00:00')"
      ]
     },
     "execution_count": 13,
     "metadata": {},
     "output_type": "execute_result"
    }
   ],
   "source": [
    "date"
   ]
  },
  {
   "cell_type": "code",
   "execution_count": 19,
   "id": "10339788",
   "metadata": {},
   "outputs": [],
   "source": [
    "vg_calibration = pd.DataFrame(\n",
    "    np.nan,\n",
    "    index = [date],#selected_dates,\n",
    "    columns = [\"theta_1stEss\", \"rmse_1stEss\",\"psi_cal\", \"theta_cal\", \"rmse_cal\"]\n",
    "    )\n",
    "\n",
    "unsuccessful_dates_vg = []"
   ]
  },
  {
   "cell_type": "code",
   "execution_count": 20,
   "id": "d8194e5a",
   "metadata": {},
   "outputs": [
    {
     "name": "stderr",
     "output_type": "stream",
     "text": [
      "Calibrating: 100%|██████████| 1/1 [14:01<00:00, 841.97s/it]"
     ]
    },
    {
     "name": "stdout",
     "output_type": "stream",
     "text": [
      "✅ 2019-09-04 — Success | psi = -1616.3994 | theta_cal = -11.9435 | RMSE_cal = 4.661159 | theta_1stess = -7.0866 | RMSE_1stEss = 7.5288 | Iter = 25\n"
     ]
    },
    {
     "name": "stderr",
     "output_type": "stream",
     "text": [
      "\n"
     ]
    }
   ],
   "source": [
    "from tqdm import tqdm\n",
    "from scipy.optimize import  minimize_scalar\n",
    "# Regularization strength\n",
    "lambda_reg = 1e-8\n",
    "\n",
    "# Search bounds\n",
    "psi_lower_limit = -15000\n",
    "psi_upper_limit = 0\n",
    "\n",
    "# optimizer tolerence\n",
    "TOL = 1e-8\n",
    "\n",
    "for date in tqdm([date], desc=\"Calibrating\"):\n",
    "    try:\n",
    "        iter_count = 0\n",
    "        min_error = float(\"inf\")\n",
    "\n",
    "        def rmse_error(psi):\n",
    "            global iter_count, min_error\n",
    "\n",
    "            # Check bounds before proceeding\n",
    "            #if not (psi < psi_upper_bound):\n",
    "                #return np.inf\n",
    "\n",
    "            try:\n",
    "                vg = VG(\n",
    "                    S0=df.loc[date, 'S0'],\n",
    "                    mu=vg_params_df.loc[date, 'mu'],\n",
    "                    m=vg_params_df.loc[date, 'm'],\n",
    "                    delta=vg_params_df.loc[date, 'delta'],\n",
    "                    kappa=vg_params_df.loc[date, 'kappa'],\n",
    "                )\n",
    "                K = np.array(df.loc[date, \"K\"])\n",
    "                option = Option(\n",
    "                        r=df.loc[date, \"r\"],\n",
    "                        q = 0,\n",
    "                        K=K,\n",
    "                        T=df.loc[date, \"T\"],\n",
    "                        emm='Esscher',\n",
    "                        psi=psi\n",
    "                )\n",
    "\n",
    "                pricer = OptionPricer(vg, option)\n",
    "                    \n",
    "                model_prices = pricer.fft(exact=False, M_int = 1.0, N_int=20_000)[0]\n",
    "\n",
    "                # Log and catch invalid model outputs\n",
    "                if np.any(np.isnan(model_prices)) or np.any(np.isinf(model_prices)):\n",
    "                    #print(f\"⚠️ Invalid model_prices at psi={psi:.4f} on {date.date()}\")\n",
    "                    return np.inf\n",
    "\n",
    "                market_prices = np.array(df.loc[date, \"C\"])\n",
    "\n",
    "                # Log and catch invalid market data\n",
    "                if np.any(np.isnan(market_prices)) or np.any(np.isinf(market_prices)):\n",
    "                    print(f\"⚠️ Invalid market_prices on {date.date()}\")\n",
    "                    return np.inf\n",
    "\n",
    "                # Optionally clamp extreme values\n",
    "                # model_prices = np.clip(model_prices, 1e-6, 1e6)\n",
    "                # market_prices = np.clip(market_prices, 1e-6, 1e6)\n",
    "                rmse = np.sqrt(np.mean((model_prices - market_prices) ** 2))\n",
    "                l2_penalty = lambda_reg * psi**2\n",
    "\n",
    "                iter_count += 1\n",
    "                min_error = min(min_error, rmse)\n",
    "\n",
    "                return rmse + l2_penalty\n",
    "\n",
    "            except Exception as inner_e:\n",
    "                print(f\"Inner error during pricing at psi={psi:.2f}: {inner_e}\")\n",
    "                return np.inf\n",
    "\n",
    "        result = minimize_scalar(\n",
    "            rmse_error,\n",
    "            method='bounded',\n",
    "            bounds=(psi_lower_limit, psi_upper_limit),\n",
    "            options={'xatol': TOL}\n",
    "        )\n",
    "\n",
    "        #print(f\"Optimization result for {date.date()}: {result}\")\n",
    "\n",
    "        # Validate result BEFORE saving\n",
    "        if not result.success or np.isnan(result.fun) or np.isinf(result.fun):\n",
    "            print(f\"⚠️ {date.date()} — Optimization failed or RMSE invalid.\")\n",
    "            unsuccessful_dates_vg.append(date)\n",
    "\n",
    "            # Optional retry strategy\n",
    "            # print(\"🔄 Retrying with tighter bounds…\")\n",
    "            # result_retry = minimize_scalar(rmse_error, bounds=(-500, min(psi_upper_bound, 250)), method='bounded')\n",
    "            # if result_retry.success and not np.isinf(result_retry.fun):\n",
    "            #     result = result_retry\n",
    "            # else:\n",
    "            continue\n",
    "\n",
    "        # Calculate thetas\n",
    "        vg = VG(\n",
    "                S0=df.loc[date, 'S0'],\n",
    "                mu=vg_params_df.loc[date, 'mu'],\n",
    "                m=vg_params_df.loc[date, 'm'],\n",
    "                delta=vg_params_df.loc[date, 'delta'],\n",
    "                kappa=vg_params_df.loc[date, 'kappa'],\n",
    "                )\n",
    "        option_cal_psi = Option(\n",
    "                r=df.loc[date, \"r\"],\n",
    "                q=0,\n",
    "                K=np.array(df.loc[date, \"K\"]),\n",
    "                T=df.loc[date, \"T\"],\n",
    "                emm='Esscher',\n",
    "                psi=result.x\n",
    "            )\n",
    "        \n",
    "        K = np.array(df.loc[date, \"K\"])\n",
    "        #option_prices_1stEss = np.zeros(K.shape, dtype=float)\n",
    "        \n",
    "        \n",
    "        option_1stEss = Option(\n",
    "                r=df.loc[date, \"r\"],\n",
    "                q=0,\n",
    "                K=K,\n",
    "                T=df.loc[date, \"T\"],\n",
    "                emm='Esscher',\n",
    "                psi=0\n",
    "        )\n",
    "\n",
    "        pricer_1stEss = OptionPricer(vg, option_1stEss)\n",
    "        option_prices_1stEss, theta_1stEss = pricer_1stEss.fft(exact=True, M = 1, search_bounds = [-30,30])\n",
    "\n",
    "        mpr_cal = MarketPriceOfRisk(vg, option_cal_psi)\n",
    "        \n",
    "        theta_cal = mpr_cal.solve(exact=False,\n",
    "        M=2.0,\n",
    "        N_center=150,\n",
    "        N_tails=100,\n",
    "        EXP_CLIP=700,\n",
    "        search_bounds = [-100, 100],\n",
    "        xtol=1e-8,\n",
    "        rtol=1e-8,\n",
    "        maxiter=500)\n",
    "\n",
    "        \n",
    "        # Extract market option the series\n",
    "        market_option = df.loc[date, \"C\"]\n",
    "\n",
    "        # RMSE of first order Esscher\n",
    "        rmse_1stEss = np.sqrt(np.mean((option_prices_1stEss - market_option) ** 2))\n",
    "\n",
    "        # Save results\n",
    "        vg_calibration.loc[date, \"theta_1stEss\"] = theta_1stEss\n",
    "        vg_calibration.loc[date, \"rmse_1stEss\"] = rmse_1stEss\n",
    "        vg_calibration.loc[date, \"psi_cal\"] = result.x\n",
    "        vg_calibration.loc[date, \"theta_cal\"] = theta_cal\n",
    "        vg_calibration.loc[date, \"rmse_cal\"] = result.fun\n",
    "\n",
    "        print(f\"✅ {date.date()} — Success | psi = {result.x:.4f} | theta_cal = {theta_cal:.4f} | RMSE_cal = {result.fun:.6f} | theta_1stess = {theta_1stEss:.4f} | RMSE_1stEss = {rmse_1stEss:.4f} | Iter = {iter_count}\")\n",
    "\n",
    "        # Save every 10 successful steps\n",
    "        #if len(vg_calibration.dropna()) % 10 == 0:\n",
    "            #vg_calibration.to_csv(file_path_vg, index=True)\n",
    "\n",
    "    except Exception as e:\n",
    "        print(f\"❌ Error on {date.date()} | Bounds: ({psi_lower_limit}, {psi_upper_limit:.2f}) — {e}\")\n",
    "        unsuccessful_dates_vg.append(date)\n",
    "        continue\n",
    "\n",
    "# code took 147 minutes to complete"
   ]
  },
  {
   "cell_type": "code",
   "execution_count": 11,
   "id": "025b1578",
   "metadata": {},
   "outputs": [],
   "source": [
    "cjd_calibration = pd.DataFrame(\n",
    "    np.nan,\n",
    "    index = [date],#selected_dates,\n",
    "    columns = [\"theta_1stEss\", \"rmse_1stEss\",\"psi_cal\", \"theta_cal\", \"rmse_cal\"]\n",
    "    )\n",
    "\n",
    "unsuccessful_dates_cjd = []"
   ]
  },
  {
   "cell_type": "code",
   "execution_count": 12,
   "id": "97167b8b",
   "metadata": {},
   "outputs": [
    {
     "name": "stderr",
     "output_type": "stream",
     "text": [
      "Calibrating:   0%|          | 0/1 [00:00<?, ?it/s]"
     ]
    },
    {
     "name": "stderr",
     "output_type": "stream",
     "text": [
      "Calibrating: 100%|██████████| 1/1 [00:00<00:00,  3.78it/s]"
     ]
    },
    {
     "name": "stdout",
     "output_type": "stream",
     "text": [
      "✅ 2019-09-04 — Success | psi = -5538.9721 | theta_cal = -32.4881 | RMSE_cal = 5.315888 | theta_1stess = -3.9400 | RMSE_1stEss = 12.3159 | Iter = 15\n"
     ]
    },
    {
     "name": "stderr",
     "output_type": "stream",
     "text": [
      "\n"
     ]
    }
   ],
   "source": [
    "from tqdm import tqdm\n",
    "from scipy.optimize import  minimize_scalar\n",
    "# Regularization strength\n",
    "lambda_reg = 1e-8\n",
    "\n",
    "# Search bounds\n",
    "psi_lower_limit = -9000\n",
    "psi_upper_limit = 15000\n",
    "\n",
    "# optimizer tolerence\n",
    "TOL = 1e-10\n",
    "\n",
    "for date in tqdm([date], desc=\"Calibrating\"):\n",
    "    try:\n",
    "        iter_count = 0\n",
    "        min_error = float(\"inf\")\n",
    "        #sigmaJ = ljd_params_df.loc[date, 'sigmaJ']\n",
    "        #ljd_psi_upper_bound = 1.0 / (2 * sigmaJ**2)\n",
    "        def rmse_error(psi):\n",
    "            global iter_count, min_error\n",
    "\n",
    "            # Check bounds before proceeding\n",
    "            #if not (psi < psi_upper_bound):\n",
    "                #return np.inf\n",
    "\n",
    "            try:\n",
    "                cjd = CJD(\n",
    "                S0=df.loc[date, 'S0'],\n",
    "                mu=cjd_params_df.loc[date, 'mu'],\n",
    "                sigma=cjd_params_df.loc[date, 'sigma'],\n",
    "                lambda_=cjd_params_df.loc[date, 'lambda_'],\n",
    "                gamma=cjd_params_df.loc[date, 'gamma'],\n",
    "                )\n",
    "                K = np.array(df.loc[date, \"K\"])\n",
    "                option = Option(\n",
    "                        r=df.loc[date, \"r\"],\n",
    "                        q = 0,\n",
    "                        K=K,\n",
    "                        T=df.loc[date, \"T\"],\n",
    "                        emm='Esscher',\n",
    "                        psi=psi\n",
    "                )\n",
    "\n",
    "                pricer = OptionPricer(cjd, option)\n",
    "                    \n",
    "                model_prices = pricer.fft(\n",
    "                    exact=True,\n",
    "                    search_bounds=(-100,100),\n",
    "                    xtol=1e-10,\n",
    "                    rtol=1e-10)[0]\n",
    "\n",
    "                # Log and catch invalid model outputs\n",
    "                if np.any(np.isnan(model_prices)) or np.any(np.isinf(model_prices)):\n",
    "                    #print(f\"⚠️ Invalid model_prices at psi={psi:.4f} on {date.date()}\")\n",
    "                    return np.inf\n",
    "\n",
    "                market_prices = np.array(df.loc[date, \"C\"])\n",
    "\n",
    "                # Log and catch invalid market data\n",
    "                if np.any(np.isnan(market_prices)) or np.any(np.isinf(market_prices)):\n",
    "                    print(f\"⚠️ Invalid market_prices on {date.date()}\")\n",
    "                    return np.inf\n",
    "\n",
    "                # Optionally clamp extreme values\n",
    "                # model_prices = np.clip(model_prices, 1e-6, 1e6)\n",
    "                # market_prices = np.clip(market_prices, 1e-6, 1e6)\n",
    "                rmse = np.sqrt(np.mean((model_prices - market_prices) ** 2))\n",
    "                l2_penalty = lambda_reg * psi**2\n",
    "\n",
    "                iter_count += 1\n",
    "                min_error = min(min_error, rmse)\n",
    "\n",
    "                return rmse + l2_penalty\n",
    "\n",
    "            except Exception as inner_e:\n",
    "                print(f\"Inner error during pricing at psi={psi:.2f}: {inner_e}\")\n",
    "                return np.inf\n",
    "\n",
    "        result = minimize_scalar(\n",
    "            rmse_error,\n",
    "            method='bounded',\n",
    "            bounds=(psi_lower_limit, psi_upper_limit),\n",
    "            options={'xatol': TOL}\n",
    "        )\n",
    "\n",
    "        #print(f\"Optimization result for {date.date()}: {result}\")\n",
    "\n",
    "        # Validate result BEFORE saving\n",
    "        if not result.success or np.isnan(result.fun) or np.isinf(result.fun):\n",
    "            print(f\"⚠️ {date.date()} — Optimization failed or RMSE invalid.\")\n",
    "            unsuccessful_dates_cjd.append(date)\n",
    "\n",
    "            # Optional retry strategy\n",
    "            # print(\"🔄 Retrying with tighter bounds…\")\n",
    "            # result_retry = minimize_scalar(rmse_error, bounds=(-500, min(psi_upper_bound, 250)), method='bounded')\n",
    "            # if result_retry.success and not np.isinf(result_retry.fun):\n",
    "            #     result = result_retry\n",
    "            # else:\n",
    "            continue\n",
    "\n",
    "        # Calculate thetas\n",
    "        cjd = CJD(\n",
    "                S0=df.loc[date, 'S0'],\n",
    "                mu=cjd_params_df.loc[date, 'mu'],\n",
    "                sigma=cjd_params_df.loc[date, 'sigma'],\n",
    "                lambda_=cjd_params_df.loc[date, 'lambda_'],\n",
    "                gamma=cjd_params_df.loc[date, 'gamma'],\n",
    "                )\n",
    "        option_cal_psi = Option(\n",
    "                r=df.loc[date, \"r\"],\n",
    "                q=0,\n",
    "                K=np.array(df.loc[date, \"K\"]),\n",
    "                T=df.loc[date, \"T\"],\n",
    "                emm='Esscher',\n",
    "                psi=result.x\n",
    "            )\n",
    "        \n",
    "        K = np.array(df.loc[date, \"K\"])\n",
    "        #option_prices_1stEss = np.zeros(K.shape, dtype=float)\n",
    "        \n",
    "        \n",
    "        option_1stEss = Option(\n",
    "                r=df.loc[date, \"r\"],\n",
    "                q=0,\n",
    "                K=K,\n",
    "                T=df.loc[date, \"T\"],\n",
    "                emm='Esscher',\n",
    "                psi=0\n",
    "        )\n",
    "\n",
    "        pricer_1stEss = OptionPricer(cjd, option_1stEss)\n",
    "        option_prices_1stEss, theta_1stEss = pricer_1stEss.fft(\n",
    "            exact=True,\n",
    "            search_bounds = [-100,100])\n",
    "\n",
    "        \n",
    "\n",
    "        mpr_cal = MarketPriceOfRisk(cjd, option_cal_psi)\n",
    "        \n",
    "        theta_cal = mpr_cal.solve(\n",
    "            L=12-16,\n",
    "            exact=True,\n",
    "            search_bounds = (-100, 100),\n",
    "            xtol=1e-10,\n",
    "            rtol=1e-10,\n",
    "            )\n",
    "\n",
    "        \n",
    "        # Extract market option the series\n",
    "        market_option = df.loc[date, \"C\"]\n",
    "\n",
    "        # RMSE of first order Esscher\n",
    "        rmse_1stEss = np.sqrt(np.mean((option_prices_1stEss - market_option) ** 2))\n",
    "\n",
    "        # Save results\n",
    "        cjd_calibration.loc[date, \"theta_1stEss\"] = theta_1stEss\n",
    "        cjd_calibration.loc[date, \"rmse_1stEss\"] = rmse_1stEss\n",
    "        cjd_calibration.loc[date, \"psi_cal\"] = result.x\n",
    "        cjd_calibration.loc[date, \"theta_cal\"] = theta_cal\n",
    "        cjd_calibration.loc[date, \"rmse_cal\"] = result.fun\n",
    "\n",
    "        print(f\"✅ {date.date()} — Success | psi = {result.x:.4f} | theta_cal = {theta_cal:.4f} | RMSE_cal = {result.fun:.6f} | theta_1stess = {theta_1stEss:.4f} | RMSE_1stEss = {rmse_1stEss:.4f} | Iter = {iter_count}\")\n",
    "\n",
    "        # Save every 10 successful steps\n",
    "        #if len(vg_calibration.dropna()) % 10 == 0:\n",
    "            #vg_calibration.to_csv(file_path_vg, index=True)\n",
    "\n",
    "    except Exception as e:\n",
    "        print(f\"❌ Error on {date.date()} | Bounds: ({psi_lower_limit}, {psi_upper_limit:.2f}) — {e}\")\n",
    "        unsuccessful_dates_cjd.append(date)\n",
    "        continue\n",
    "\n",
    "# code took 147 minutes to complete"
   ]
  },
  {
   "cell_type": "code",
   "execution_count": 9,
   "id": "5ed00365",
   "metadata": {},
   "outputs": [
    {
     "name": "stderr",
     "output_type": "stream",
     "text": [
      "C:\\Users\\ellae\\Projects\\Active_projects\\quantmetrics\\src\\quantmetrics\\risk_calculators\\martingale_equation.py:66: RuntimeWarning: overflow encountered in exp\n",
      "  Exp = np.exp(x * gamma + psi * gamma**2)\n"
     ]
    },
    {
     "data": {
      "text/html": [
       "<div>\n",
       "<style scoped>\n",
       "    .dataframe tbody tr th:only-of-type {\n",
       "        vertical-align: middle;\n",
       "    }\n",
       "\n",
       "    .dataframe tbody tr th {\n",
       "        vertical-align: top;\n",
       "    }\n",
       "\n",
       "    .dataframe thead th {\n",
       "        text-align: right;\n",
       "    }\n",
       "</style>\n",
       "<table border=\"1\" class=\"dataframe\">\n",
       "  <thead>\n",
       "    <tr style=\"text-align: right;\">\n",
       "      <th></th>\n",
       "      <th>K</th>\n",
       "      <th>CJD_price</th>\n",
       "      <th>Market</th>\n",
       "      <th>closed_form</th>\n",
       "    </tr>\n",
       "  </thead>\n",
       "  <tbody>\n",
       "    <tr>\n",
       "      <th>0</th>\n",
       "      <td>2925.0</td>\n",
       "      <td>67.108468</td>\n",
       "      <td>56.550</td>\n",
       "      <td>67.108470</td>\n",
       "    </tr>\n",
       "    <tr>\n",
       "      <th>1</th>\n",
       "      <td>2970.0</td>\n",
       "      <td>45.114618</td>\n",
       "      <td>29.350</td>\n",
       "      <td>45.114619</td>\n",
       "    </tr>\n",
       "    <tr>\n",
       "      <th>2</th>\n",
       "      <td>3020.0</td>\n",
       "      <td>27.026521</td>\n",
       "      <td>9.500</td>\n",
       "      <td>27.026522</td>\n",
       "    </tr>\n",
       "    <tr>\n",
       "      <th>3</th>\n",
       "      <td>2835.0</td>\n",
       "      <td>126.929564</td>\n",
       "      <td>127.550</td>\n",
       "      <td>126.929565</td>\n",
       "    </tr>\n",
       "    <tr>\n",
       "      <th>4</th>\n",
       "      <td>2840.0</td>\n",
       "      <td>123.109449</td>\n",
       "      <td>123.450</td>\n",
       "      <td>123.109450</td>\n",
       "    </tr>\n",
       "    <tr>\n",
       "      <th>5</th>\n",
       "      <td>2885.0</td>\n",
       "      <td>91.234047</td>\n",
       "      <td>87.900</td>\n",
       "      <td>91.234048</td>\n",
       "    </tr>\n",
       "    <tr>\n",
       "      <th>6</th>\n",
       "      <td>2900.0</td>\n",
       "      <td>81.696983</td>\n",
       "      <td>76.750</td>\n",
       "      <td>81.696985</td>\n",
       "    </tr>\n",
       "    <tr>\n",
       "      <th>7</th>\n",
       "      <td>2915.0</td>\n",
       "      <td>72.744135</td>\n",
       "      <td>66.050</td>\n",
       "      <td>72.744136</td>\n",
       "    </tr>\n",
       "    <tr>\n",
       "      <th>8</th>\n",
       "      <td>2925.0</td>\n",
       "      <td>67.108468</td>\n",
       "      <td>59.200</td>\n",
       "      <td>67.108470</td>\n",
       "    </tr>\n",
       "    <tr>\n",
       "      <th>9</th>\n",
       "      <td>2950.0</td>\n",
       "      <td>54.206951</td>\n",
       "      <td>43.200</td>\n",
       "      <td>54.206952</td>\n",
       "    </tr>\n",
       "    <tr>\n",
       "      <th>10</th>\n",
       "      <td>2960.0</td>\n",
       "      <td>49.524571</td>\n",
       "      <td>37.300</td>\n",
       "      <td>49.524572</td>\n",
       "    </tr>\n",
       "    <tr>\n",
       "      <th>11</th>\n",
       "      <td>2965.0</td>\n",
       "      <td>47.285657</td>\n",
       "      <td>34.500</td>\n",
       "      <td>47.285658</td>\n",
       "    </tr>\n",
       "    <tr>\n",
       "      <th>12</th>\n",
       "      <td>2970.0</td>\n",
       "      <td>45.114618</td>\n",
       "      <td>31.800</td>\n",
       "      <td>45.114619</td>\n",
       "    </tr>\n",
       "    <tr>\n",
       "      <th>13</th>\n",
       "      <td>2975.0</td>\n",
       "      <td>43.011122</td>\n",
       "      <td>29.250</td>\n",
       "      <td>43.011123</td>\n",
       "    </tr>\n",
       "    <tr>\n",
       "      <th>14</th>\n",
       "      <td>2980.0</td>\n",
       "      <td>40.974758</td>\n",
       "      <td>26.750</td>\n",
       "      <td>40.974759</td>\n",
       "    </tr>\n",
       "    <tr>\n",
       "      <th>15</th>\n",
       "      <td>2985.0</td>\n",
       "      <td>39.005037</td>\n",
       "      <td>24.400</td>\n",
       "      <td>39.005039</td>\n",
       "    </tr>\n",
       "    <tr>\n",
       "      <th>16</th>\n",
       "      <td>2990.0</td>\n",
       "      <td>37.101396</td>\n",
       "      <td>22.100</td>\n",
       "      <td>37.101397</td>\n",
       "    </tr>\n",
       "    <tr>\n",
       "      <th>17</th>\n",
       "      <td>2995.0</td>\n",
       "      <td>35.263195</td>\n",
       "      <td>19.950</td>\n",
       "      <td>35.263196</td>\n",
       "    </tr>\n",
       "    <tr>\n",
       "      <th>18</th>\n",
       "      <td>3000.0</td>\n",
       "      <td>33.489723</td>\n",
       "      <td>17.950</td>\n",
       "      <td>33.489724</td>\n",
       "    </tr>\n",
       "    <tr>\n",
       "      <th>19</th>\n",
       "      <td>3005.0</td>\n",
       "      <td>31.780200</td>\n",
       "      <td>16.050</td>\n",
       "      <td>31.780201</td>\n",
       "    </tr>\n",
       "    <tr>\n",
       "      <th>20</th>\n",
       "      <td>3010.0</td>\n",
       "      <td>30.133777</td>\n",
       "      <td>14.350</td>\n",
       "      <td>30.133778</td>\n",
       "    </tr>\n",
       "    <tr>\n",
       "      <th>21</th>\n",
       "      <td>3015.0</td>\n",
       "      <td>28.549542</td>\n",
       "      <td>12.650</td>\n",
       "      <td>28.549543</td>\n",
       "    </tr>\n",
       "    <tr>\n",
       "      <th>22</th>\n",
       "      <td>3020.0</td>\n",
       "      <td>27.026521</td>\n",
       "      <td>11.200</td>\n",
       "      <td>27.026522</td>\n",
       "    </tr>\n",
       "    <tr>\n",
       "      <th>23</th>\n",
       "      <td>3025.0</td>\n",
       "      <td>25.563681</td>\n",
       "      <td>9.850</td>\n",
       "      <td>25.563682</td>\n",
       "    </tr>\n",
       "    <tr>\n",
       "      <th>24</th>\n",
       "      <td>3030.0</td>\n",
       "      <td>24.159934</td>\n",
       "      <td>8.600</td>\n",
       "      <td>24.159935</td>\n",
       "    </tr>\n",
       "    <tr>\n",
       "      <th>25</th>\n",
       "      <td>3035.0</td>\n",
       "      <td>22.814141</td>\n",
       "      <td>7.500</td>\n",
       "      <td>22.814143</td>\n",
       "    </tr>\n",
       "    <tr>\n",
       "      <th>26</th>\n",
       "      <td>3040.0</td>\n",
       "      <td>21.525116</td>\n",
       "      <td>6.500</td>\n",
       "      <td>21.525117</td>\n",
       "    </tr>\n",
       "    <tr>\n",
       "      <th>27</th>\n",
       "      <td>3045.0</td>\n",
       "      <td>20.291626</td>\n",
       "      <td>5.650</td>\n",
       "      <td>20.291627</td>\n",
       "    </tr>\n",
       "    <tr>\n",
       "      <th>28</th>\n",
       "      <td>3050.0</td>\n",
       "      <td>19.112399</td>\n",
       "      <td>4.900</td>\n",
       "      <td>19.112400</td>\n",
       "    </tr>\n",
       "    <tr>\n",
       "      <th>29</th>\n",
       "      <td>3055.0</td>\n",
       "      <td>17.986128</td>\n",
       "      <td>4.200</td>\n",
       "      <td>17.986129</td>\n",
       "    </tr>\n",
       "    <tr>\n",
       "      <th>30</th>\n",
       "      <td>3060.0</td>\n",
       "      <td>16.911471</td>\n",
       "      <td>3.600</td>\n",
       "      <td>16.911472</td>\n",
       "    </tr>\n",
       "    <tr>\n",
       "      <th>31</th>\n",
       "      <td>3065.0</td>\n",
       "      <td>15.887059</td>\n",
       "      <td>3.100</td>\n",
       "      <td>15.887060</td>\n",
       "    </tr>\n",
       "    <tr>\n",
       "      <th>32</th>\n",
       "      <td>3070.0</td>\n",
       "      <td>14.911498</td>\n",
       "      <td>2.650</td>\n",
       "      <td>14.911499</td>\n",
       "    </tr>\n",
       "    <tr>\n",
       "      <th>33</th>\n",
       "      <td>3075.0</td>\n",
       "      <td>13.983374</td>\n",
       "      <td>2.275</td>\n",
       "      <td>13.983375</td>\n",
       "    </tr>\n",
       "    <tr>\n",
       "      <th>34</th>\n",
       "      <td>3085.0</td>\n",
       "      <td>12.263698</td>\n",
       "      <td>1.725</td>\n",
       "      <td>12.263699</td>\n",
       "    </tr>\n",
       "    <tr>\n",
       "      <th>35</th>\n",
       "      <td>3095.0</td>\n",
       "      <td>10.716631</td>\n",
       "      <td>1.275</td>\n",
       "      <td>10.716455</td>\n",
       "    </tr>\n",
       "    <tr>\n",
       "      <th>36</th>\n",
       "      <td>3100.0</td>\n",
       "      <td>10.003688</td>\n",
       "      <td>1.125</td>\n",
       "      <td>10.003851</td>\n",
       "    </tr>\n",
       "    <tr>\n",
       "      <th>37</th>\n",
       "      <td>3105.0</td>\n",
       "      <td>9.330135</td>\n",
       "      <td>0.975</td>\n",
       "      <td>9.329985</td>\n",
       "    </tr>\n",
       "    <tr>\n",
       "      <th>38</th>\n",
       "      <td>3110.0</td>\n",
       "      <td>8.693268</td>\n",
       "      <td>0.850</td>\n",
       "      <td>8.693404</td>\n",
       "    </tr>\n",
       "    <tr>\n",
       "      <th>39</th>\n",
       "      <td>3120.0</td>\n",
       "      <td>7.526239</td>\n",
       "      <td>0.650</td>\n",
       "      <td>7.526345</td>\n",
       "    </tr>\n",
       "    <tr>\n",
       "      <th>40</th>\n",
       "      <td>3125.0</td>\n",
       "      <td>6.993115</td>\n",
       "      <td>0.600</td>\n",
       "      <td>6.993023</td>\n",
       "    </tr>\n",
       "    <tr>\n",
       "      <th>41</th>\n",
       "      <td>3140.0</td>\n",
       "      <td>6.207303</td>\n",
       "      <td>0.425</td>\n",
       "      <td>5.577204</td>\n",
       "    </tr>\n",
       "    <tr>\n",
       "      <th>42</th>\n",
       "      <td>3155.0</td>\n",
       "      <td>4.409493</td>\n",
       "      <td>0.300</td>\n",
       "      <td>4.409495</td>\n",
       "    </tr>\n",
       "    <tr>\n",
       "      <th>43</th>\n",
       "      <td>3175.0</td>\n",
       "      <td>3.179641</td>\n",
       "      <td>0.200</td>\n",
       "      <td>3.179691</td>\n",
       "    </tr>\n",
       "    <tr>\n",
       "      <th>44</th>\n",
       "      <td>3200.0</td>\n",
       "      <td>2.066102</td>\n",
       "      <td>0.125</td>\n",
       "      <td>2.066036</td>\n",
       "    </tr>\n",
       "  </tbody>\n",
       "</table>\n",
       "</div>"
      ],
      "text/plain": [
       "         K   CJD_price   Market  closed_form\n",
       "0   2925.0   67.108468   56.550    67.108470\n",
       "1   2970.0   45.114618   29.350    45.114619\n",
       "2   3020.0   27.026521    9.500    27.026522\n",
       "3   2835.0  126.929564  127.550   126.929565\n",
       "4   2840.0  123.109449  123.450   123.109450\n",
       "5   2885.0   91.234047   87.900    91.234048\n",
       "6   2900.0   81.696983   76.750    81.696985\n",
       "7   2915.0   72.744135   66.050    72.744136\n",
       "8   2925.0   67.108468   59.200    67.108470\n",
       "9   2950.0   54.206951   43.200    54.206952\n",
       "10  2960.0   49.524571   37.300    49.524572\n",
       "11  2965.0   47.285657   34.500    47.285658\n",
       "12  2970.0   45.114618   31.800    45.114619\n",
       "13  2975.0   43.011122   29.250    43.011123\n",
       "14  2980.0   40.974758   26.750    40.974759\n",
       "15  2985.0   39.005037   24.400    39.005039\n",
       "16  2990.0   37.101396   22.100    37.101397\n",
       "17  2995.0   35.263195   19.950    35.263196\n",
       "18  3000.0   33.489723   17.950    33.489724\n",
       "19  3005.0   31.780200   16.050    31.780201\n",
       "20  3010.0   30.133777   14.350    30.133778\n",
       "21  3015.0   28.549542   12.650    28.549543\n",
       "22  3020.0   27.026521   11.200    27.026522\n",
       "23  3025.0   25.563681    9.850    25.563682\n",
       "24  3030.0   24.159934    8.600    24.159935\n",
       "25  3035.0   22.814141    7.500    22.814143\n",
       "26  3040.0   21.525116    6.500    21.525117\n",
       "27  3045.0   20.291626    5.650    20.291627\n",
       "28  3050.0   19.112399    4.900    19.112400\n",
       "29  3055.0   17.986128    4.200    17.986129\n",
       "30  3060.0   16.911471    3.600    16.911472\n",
       "31  3065.0   15.887059    3.100    15.887060\n",
       "32  3070.0   14.911498    2.650    14.911499\n",
       "33  3075.0   13.983374    2.275    13.983375\n",
       "34  3085.0   12.263698    1.725    12.263699\n",
       "35  3095.0   10.716631    1.275    10.716455\n",
       "36  3100.0   10.003688    1.125    10.003851\n",
       "37  3105.0    9.330135    0.975     9.329985\n",
       "38  3110.0    8.693268    0.850     8.693404\n",
       "39  3120.0    7.526239    0.650     7.526345\n",
       "40  3125.0    6.993115    0.600     6.993023\n",
       "41  3140.0    6.207303    0.425     5.577204\n",
       "42  3155.0    4.409493    0.300     4.409495\n",
       "43  3175.0    3.179641    0.200     3.179691\n",
       "44  3200.0    2.066102    0.125     2.066036"
      ]
     },
     "execution_count": 9,
     "metadata": {},
     "output_type": "execute_result"
    }
   ],
   "source": [
    "cjd = CJD(\n",
    "    S0=df.loc[date, 'S0'],\n",
    "    mu=cjd_params_df.loc[date, 'mu'],\n",
    "    sigma=cjd_params_df.loc[date, 'sigma'],\n",
    "    lambda_=cjd_params_df.loc[date, 'lambda_'],\n",
    "    gamma=cjd_params_df.loc[date, 'gamma'],\n",
    ")\n",
    "\n",
    "option= Option(\n",
    "    r=df.loc[date, \"r\"],\n",
    "    q=0,\n",
    "    K=np.array(df.loc[date, \"K\"]),\n",
    "    T=df.loc[date, \"T\"],\n",
    "    emm='Esscher',\n",
    "    psi=-100\n",
    ")\n",
    "cjd_pricer = OptionPricer(cjd, option)\n",
    "\n",
    "cjd_price = cjd_pricer.fft(exact=False, search_bounds=(-1e+10,1e+10))[0]\n",
    "cjd_exact = cjd_pricer.closed_form()\n",
    "market_price = df.loc[date, \"C\"]\n",
    "\n",
    "pd.DataFrame({\"K\": np.array(df.loc[date,\"K\"]), \"CJD_price\": cjd_price, \"Market\": market_price, \"closed_form\": cjd_exact})"
   ]
  },
  {
   "cell_type": "code",
   "execution_count": 10,
   "id": "daddcec4",
   "metadata": {},
   "outputs": [
    {
     "name": "stderr",
     "output_type": "stream",
     "text": [
      "C:\\Users\\ellae\\Projects\\Active_projects\\quantmetrics\\src\\quantmetrics\\risk_calculators\\martingale_equation.py:66: RuntimeWarning: overflow encountered in exp\n",
      "  Exp = np.exp(x * gamma + psi * gamma**2)\n"
     ]
    },
    {
     "data": {
      "text/plain": [
       "(-4.994480375062349, -4.994480375062343)"
      ]
     },
     "execution_count": 10,
     "metadata": {},
     "output_type": "execute_result"
    }
   ],
   "source": [
    "from quantmetrics.risk_calculators.martingale_equation import RiskPremium\n",
    "(\n",
    "    MarketPriceOfRisk(cjd, option).solve(exact=True, search_bounds = (-1e+10, 1e+10), xtol=1e-10, rtol=1e-10),\n",
    "    RiskPremium(cjd, option).calculate()\n",
    ")"
   ]
  }
 ],
 "metadata": {
  "kernelspec": {
   "display_name": "quantmetrics_env",
   "language": "python",
   "name": "python3"
  },
  "language_info": {
   "codemirror_mode": {
    "name": "ipython",
    "version": 3
   },
   "file_extension": ".py",
   "mimetype": "text/x-python",
   "name": "python",
   "nbconvert_exporter": "python",
   "pygments_lexer": "ipython3",
   "version": "3.11.9"
  }
 },
 "nbformat": 4,
 "nbformat_minor": 5
}
